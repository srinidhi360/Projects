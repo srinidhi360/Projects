{
 "cells": [
  {
   "cell_type": "markdown",
   "metadata": {},
   "source": [
    "<img src = 'https://github.com/insaid2018/Term-1/blob/master/Images/INSAID_Full%20Logo.png?raw=true' width=\"240\" height=\"360\">\n",
    "\n",
    "# EDA on IPL's Data"
   ]
  },
  {
   "cell_type": "markdown",
   "metadata": {},
   "source": [
    "![\"IPL Logo\"](IPL_Logo.png \"Title\")"
   ]
  },
  {
   "cell_type": "markdown",
   "metadata": {},
   "source": [
    "## Table of Contents\n",
    "\n",
    "1. [Problem Statement](#section1)<br>\n",
    "2. [Importing Packages](#section2)<br>\n",
    "3. [Loading Data](#section3)<br>\n",
    "  - 3.1 [Description of the Datasets](#section301)<br>\n",
    "  - 3.2 [Pandas Profiling before Data Preprocessing](#section302)<br>\n",
    "4. [Data Preprocessing](#section4)<br>\n",
    "  - 4.1 [Data Preprocessing](#section401)<br>\n",
    "  - 4.2 [Pandas Profiling after Data Preprocessing](#section402)<br>\n",
    "5. [Exploratory Data Analysis](#section5)<br>\n",
    "  - 5.1 [**Analyse how extraneous factors affect RCB**](#section501)<br>\n",
    "    - 5.1.1 [Is toss affecting RCB?](#section50101)<br>\n",
    "    - 5.1.2 [Does venue affect the results?](#section50102)<br>\n",
    "  - 5.2 [**Analyse how pressure affects RCB**](#section502)<br>\n",
    "      - 5.2.1 [How have RCB fared in high score chasing games?](#section50201)<br>\n",
    "      - 5.2.2 [How have RCB fared in low score defending games?](#section50202)<br>\n",
    "      - 5.2.3 [How have RCB performed in nail-biting finishes?](#section50203)<br>\n",
    "      - 5.2.4 [How have RCB performed in superovers?](#section50204)<br>\n",
    "      - 5.2.5 [How has RCB performed in playoffs and finale matches?](#section50205)<br> \n",
    "  - 5.3 [**Analyze how is RCB's batting**](#section503)<br>\n",
    "    - 5.3.1 [How many players from each team contribute more than 20 runs in a match?](#section50301)<br>\n",
    "    - 5.3.2 [How many players from each team contribute more than 300 runs in a season?](#section50302)<br>\n",
    "    - 5.3.3 [How is RCB's scoring range for all matches?](#section50303)<br>\n",
    "    - 5.3.4 [What is RCB's strike rate in last 30 balls (death batting)?](#section50304)<br>\n",
    "    - 5.3.5 [How is the lower middle order for RCB?](#section50305)<br>\n",
    "  - 5.4 [**Analyze how is RCB's bowling**](#section504)<br>\n",
    "    - 5.4.1 [How is the wickets scalped range and runs conceded range for RCB for all matches?](#section50401)<br>\n",
    "    - 5.4.2 [How many players from each team contribute more than 10 wickets in a season?](#section50402)<br>\n",
    "    - 5.4.3 [How is RCB's bowling in last 30 balls (death bowling)?](#section50403)<br>\n",
    "    - 5.4.4 [How many players from each team contribute more than 1 wicket in a match?](#section50404)<br><br>\n",
    "6. [Conclusion](#section6)\n",
    "  - 6.1 [Actionable Insights](#section601)"
   ]
  },
  {
   "cell_type": "markdown",
   "metadata": {},
   "source": [
    "<a id=section1></a>\n",
    "## 1. Problem Statement"
   ]
  },
  {
   "cell_type": "markdown",
   "metadata": {},
   "source": [
    "Team RCB usally has big names associated with it, they have been to the finals thrice but have been able to seal the trophy. Let's us dig deep into various aspects affecting a team's victory in cricket and see what needs to improved upon by RCB. I will juxtapose few key factors/ characteristics of RCB with 3 other successful teams viz. MI (4 titles), CSK (3 titles) and KKR (2 titles)."
   ]
  },
  {
   "cell_type": "markdown",
   "metadata": {},
   "source": [
    "<a id=section2></a>\n",
    "## 2. Importing Packages"
   ]
  },
  {
   "cell_type": "code",
   "execution_count": 1,
   "metadata": {},
   "outputs": [
    {
     "name": "stderr",
     "output_type": "stream",
     "text": [
      "C:\\Users\\91903\\anaconda3\\lib\\site-packages\\ipykernel_launcher.py:5: FutureWarning: Passing a negative integer is deprecated in version 1.0 and will not be supported in future version. Instead, use None to not limit the column width.\n",
      "  \"\"\"\n"
     ]
    }
   ],
   "source": [
    "import numpy as np                     \n",
    "\n",
    "import pandas as pd\n",
    "pd.set_option('mode.chained_assignment', None)      # To suppress pandas warnings.\n",
    "pd.set_option('display.max_colwidth', -1)           # To display all the data in each column\n",
    "pd.options.display.max_columns = 50                 # To display every column of the dataset in head()\n",
    "\n",
    "import warnings\n",
    "warnings.filterwarnings('ignore')                   # To suppress all the warnings in the notebook."
   ]
  },
  {
   "cell_type": "code",
   "execution_count": 2,
   "metadata": {},
   "outputs": [],
   "source": [
    "import matplotlib.pyplot as plt\n",
    "%matplotlib inline\n",
    "\n",
    "import seaborn as sns\n",
    "sns.set(style='whitegrid', font_scale=1.3, color_codes=True)      # To apply seaborn styles to the plots."
   ]
  },
  {
   "cell_type": "code",
   "execution_count": 3,
   "metadata": {},
   "outputs": [
    {
     "data": {
      "text/html": [
       "        <script type=\"text/javascript\">\n",
       "        window.PlotlyConfig = {MathJaxConfig: 'local'};\n",
       "        if (window.MathJax) {MathJax.Hub.Config({SVG: {font: \"STIX-Web\"}});}\n",
       "        if (typeof require !== 'undefined') {\n",
       "        require.undef(\"plotly\");\n",
       "        requirejs.config({\n",
       "            paths: {\n",
       "                'plotly': ['https://cdn.plot.ly/plotly-latest.min']\n",
       "            }\n",
       "        });\n",
       "        require(['plotly'], function(Plotly) {\n",
       "            window._Plotly = Plotly;\n",
       "        });\n",
       "        }\n",
       "        </script>\n",
       "        "
      ]
     },
     "metadata": {},
     "output_type": "display_data"
    }
   ],
   "source": [
    "# Making plotly specific imports\n",
    "# These imports are necessary to use plotly offline without signing in to their website.\n",
    "\n",
    "from plotly.offline import init_notebook_mode, iplot\n",
    "import plotly.graph_objs as go\n",
    "import chart_studio.plotly as py\n",
    "from plotly import tools\n",
    "init_notebook_mode(connected=True)"
   ]
  },
  {
   "cell_type": "markdown",
   "metadata": {},
   "source": [
    "<a id=section3></a>\n",
    "## 3. Loading the data"
   ]
  },
  {
   "cell_type": "markdown",
   "metadata": {},
   "source": [
    "#### We are going to use two datasheets.\n",
    "#### All Indian Premier League Cricket matches between 2008 and 2016. \n",
    "#### This is the ball by ball data of all the IPL cricket matches till season 9.\n",
    "#### The dataset contains 2 files: deliveries.csv and matches.csv.\n",
    "#### matches.csv contains details related to the match such as location, contesting teams, umpires, results, etc.\n",
    "#### deliveries.csv is the ball-by-ball data of all the IPL matches including data of the batting team, batsman, bowler, non-striker, runs scored, etc.\n"
   ]
  },
  {
   "cell_type": "markdown",
   "metadata": {},
   "source": [
    "### Importing first data set"
   ]
  },
  {
   "cell_type": "code",
   "execution_count": 4,
   "metadata": {},
   "outputs": [
    {
     "data": {
      "text/html": [
       "<div>\n",
       "<style scoped>\n",
       "    .dataframe tbody tr th:only-of-type {\n",
       "        vertical-align: middle;\n",
       "    }\n",
       "\n",
       "    .dataframe tbody tr th {\n",
       "        vertical-align: top;\n",
       "    }\n",
       "\n",
       "    .dataframe thead th {\n",
       "        text-align: right;\n",
       "    }\n",
       "</style>\n",
       "<table border=\"1\" class=\"dataframe\">\n",
       "  <thead>\n",
       "    <tr style=\"text-align: right;\">\n",
       "      <th></th>\n",
       "      <th>match_id</th>\n",
       "      <th>inning</th>\n",
       "      <th>batting_team</th>\n",
       "      <th>bowling_team</th>\n",
       "      <th>over</th>\n",
       "      <th>ball</th>\n",
       "      <th>batsman</th>\n",
       "      <th>non_striker</th>\n",
       "      <th>bowler</th>\n",
       "      <th>is_super_over</th>\n",
       "      <th>wide_runs</th>\n",
       "      <th>bye_runs</th>\n",
       "      <th>legbye_runs</th>\n",
       "      <th>noball_runs</th>\n",
       "      <th>penalty_runs</th>\n",
       "      <th>batsman_runs</th>\n",
       "      <th>extra_runs</th>\n",
       "      <th>total_runs</th>\n",
       "      <th>player_dismissed</th>\n",
       "      <th>dismissal_kind</th>\n",
       "      <th>fielder</th>\n",
       "    </tr>\n",
       "  </thead>\n",
       "  <tbody>\n",
       "    <tr>\n",
       "      <th>0</th>\n",
       "      <td>1</td>\n",
       "      <td>1</td>\n",
       "      <td>Sunrisers Hyderabad</td>\n",
       "      <td>Royal Challengers Bangalore</td>\n",
       "      <td>1</td>\n",
       "      <td>1</td>\n",
       "      <td>DA Warner</td>\n",
       "      <td>S Dhawan</td>\n",
       "      <td>TS Mills</td>\n",
       "      <td>0</td>\n",
       "      <td>0</td>\n",
       "      <td>0</td>\n",
       "      <td>0</td>\n",
       "      <td>0</td>\n",
       "      <td>0</td>\n",
       "      <td>0</td>\n",
       "      <td>0</td>\n",
       "      <td>0</td>\n",
       "      <td>NaN</td>\n",
       "      <td>NaN</td>\n",
       "      <td>NaN</td>\n",
       "    </tr>\n",
       "    <tr>\n",
       "      <th>1</th>\n",
       "      <td>1</td>\n",
       "      <td>1</td>\n",
       "      <td>Sunrisers Hyderabad</td>\n",
       "      <td>Royal Challengers Bangalore</td>\n",
       "      <td>1</td>\n",
       "      <td>2</td>\n",
       "      <td>DA Warner</td>\n",
       "      <td>S Dhawan</td>\n",
       "      <td>TS Mills</td>\n",
       "      <td>0</td>\n",
       "      <td>0</td>\n",
       "      <td>0</td>\n",
       "      <td>0</td>\n",
       "      <td>0</td>\n",
       "      <td>0</td>\n",
       "      <td>0</td>\n",
       "      <td>0</td>\n",
       "      <td>0</td>\n",
       "      <td>NaN</td>\n",
       "      <td>NaN</td>\n",
       "      <td>NaN</td>\n",
       "    </tr>\n",
       "    <tr>\n",
       "      <th>2</th>\n",
       "      <td>1</td>\n",
       "      <td>1</td>\n",
       "      <td>Sunrisers Hyderabad</td>\n",
       "      <td>Royal Challengers Bangalore</td>\n",
       "      <td>1</td>\n",
       "      <td>3</td>\n",
       "      <td>DA Warner</td>\n",
       "      <td>S Dhawan</td>\n",
       "      <td>TS Mills</td>\n",
       "      <td>0</td>\n",
       "      <td>0</td>\n",
       "      <td>0</td>\n",
       "      <td>0</td>\n",
       "      <td>0</td>\n",
       "      <td>0</td>\n",
       "      <td>4</td>\n",
       "      <td>0</td>\n",
       "      <td>4</td>\n",
       "      <td>NaN</td>\n",
       "      <td>NaN</td>\n",
       "      <td>NaN</td>\n",
       "    </tr>\n",
       "    <tr>\n",
       "      <th>3</th>\n",
       "      <td>1</td>\n",
       "      <td>1</td>\n",
       "      <td>Sunrisers Hyderabad</td>\n",
       "      <td>Royal Challengers Bangalore</td>\n",
       "      <td>1</td>\n",
       "      <td>4</td>\n",
       "      <td>DA Warner</td>\n",
       "      <td>S Dhawan</td>\n",
       "      <td>TS Mills</td>\n",
       "      <td>0</td>\n",
       "      <td>0</td>\n",
       "      <td>0</td>\n",
       "      <td>0</td>\n",
       "      <td>0</td>\n",
       "      <td>0</td>\n",
       "      <td>0</td>\n",
       "      <td>0</td>\n",
       "      <td>0</td>\n",
       "      <td>NaN</td>\n",
       "      <td>NaN</td>\n",
       "      <td>NaN</td>\n",
       "    </tr>\n",
       "    <tr>\n",
       "      <th>4</th>\n",
       "      <td>1</td>\n",
       "      <td>1</td>\n",
       "      <td>Sunrisers Hyderabad</td>\n",
       "      <td>Royal Challengers Bangalore</td>\n",
       "      <td>1</td>\n",
       "      <td>5</td>\n",
       "      <td>DA Warner</td>\n",
       "      <td>S Dhawan</td>\n",
       "      <td>TS Mills</td>\n",
       "      <td>0</td>\n",
       "      <td>2</td>\n",
       "      <td>0</td>\n",
       "      <td>0</td>\n",
       "      <td>0</td>\n",
       "      <td>0</td>\n",
       "      <td>0</td>\n",
       "      <td>2</td>\n",
       "      <td>2</td>\n",
       "      <td>NaN</td>\n",
       "      <td>NaN</td>\n",
       "      <td>NaN</td>\n",
       "    </tr>\n",
       "  </tbody>\n",
       "</table>\n",
       "</div>"
      ],
      "text/plain": [
       "   match_id  inning         batting_team                 bowling_team  over  \\\n",
       "0  1         1       Sunrisers Hyderabad  Royal Challengers Bangalore  1      \n",
       "1  1         1       Sunrisers Hyderabad  Royal Challengers Bangalore  1      \n",
       "2  1         1       Sunrisers Hyderabad  Royal Challengers Bangalore  1      \n",
       "3  1         1       Sunrisers Hyderabad  Royal Challengers Bangalore  1      \n",
       "4  1         1       Sunrisers Hyderabad  Royal Challengers Bangalore  1      \n",
       "\n",
       "   ball    batsman non_striker    bowler  is_super_over  wide_runs  bye_runs  \\\n",
       "0  1     DA Warner  S Dhawan    TS Mills  0              0          0          \n",
       "1  2     DA Warner  S Dhawan    TS Mills  0              0          0          \n",
       "2  3     DA Warner  S Dhawan    TS Mills  0              0          0          \n",
       "3  4     DA Warner  S Dhawan    TS Mills  0              0          0          \n",
       "4  5     DA Warner  S Dhawan    TS Mills  0              2          0          \n",
       "\n",
       "   legbye_runs  noball_runs  penalty_runs  batsman_runs  extra_runs  \\\n",
       "0  0            0            0             0             0            \n",
       "1  0            0            0             0             0            \n",
       "2  0            0            0             4             0            \n",
       "3  0            0            0             0             0            \n",
       "4  0            0            0             0             2            \n",
       "\n",
       "   total_runs player_dismissed dismissal_kind fielder  \n",
       "0  0           NaN              NaN            NaN     \n",
       "1  0           NaN              NaN            NaN     \n",
       "2  4           NaN              NaN            NaN     \n",
       "3  0           NaN              NaN            NaN     \n",
       "4  2           NaN              NaN            NaN     "
      ]
     },
     "execution_count": 4,
     "metadata": {},
     "output_type": "execute_result"
    }
   ],
   "source": [
    "# Importing the 1st dataset (deliveries dataset for IPL data)\n",
    "\n",
    "deliveries = pd.read_csv(r'https://raw.githubusercontent.com/insaid2018/Term-1/master/Data/Projects/deliveries.csv')\n",
    "deliveries.head()\n"
   ]
  },
  {
   "cell_type": "markdown",
   "metadata": {},
   "source": [
    "<a id=section301></a>\n",
    "### Description of the Dataset\n",
    "\n",
    "- This dataset provides ** ball-by-ball data** of all the IPL matches including data of the batting team, batsman, bowler, non-striker, runs scored, etc.\n",
    "\n",
    "\n",
    "- Brief information about each deliveries column are as below\n",
    "\n",
    "\n",
    "| Column Name                    | Description                                                                                |\n",
    "| -------------------------------|:------------------------------------------------------------------------------------------:| \n",
    "| match id                       | This is the id of each match                                                               | \n",
    "| inning                         | This mentions the innings of the match( 3 or 4 in case of super over)                      | \n",
    "| batting_team                   | The team name which is currently batting                                                   | \n",
    "| bowling_team                   | The team name which is currently bowling                                                   |\n",
    "| over                           | Mentions the over                                                                          |\n",
    "| ball                           | Describe the current bowl no of the current over                                           |\n",
    "| batsman                        | Name of the batsman on striking end                                                        |\n",
    "| non_striker                    | Name of the batsman on non-striking end                                                    |\n",
    "| bowler                         | Name of the bowler currently bowling                                                       |\n",
    "| is_super_over                  | Is the current over a super over or not                                                    |\n",
    "| wide_runs                      | Total wide runs obtained by the batting team                                               |\n",
    "| bye_runs                       | Total bye runs obtained by the batting team                                                |\n",
    "| legbye_runs                    | Total legbye runs obtained by the batting team                                             |\n",
    "| noball_runs                    | Total noball runs obtained by the batting team                                             |\n",
    "| penalty_runs                   | Total penalty runs obtained by the batting team                                            |\n",
    "| batsman_runs                   | Total runs scored off the bat                                                              |\n",
    "| extra_runs                     | Total extra runs obtained by the batting team                                              |\n",
    "| total_runs                     | Sum total of all types of runs obtained by the batting team                                |                            \n",
    "| player_dismissed               | Name of the player dismissed in that particular delivery                                   |\n",
    "| dismissal_kind                 | The kind of dismissal                                                                      |\n",
    "| fielder                        | The fielder who assisted in this particular dismissal                                                          \n"
   ]
  },
  {
   "cell_type": "code",
   "execution_count": 5,
   "metadata": {},
   "outputs": [
    {
     "name": "stdout",
     "output_type": "stream",
     "text": [
      "<class 'pandas.core.frame.DataFrame'>\n",
      "RangeIndex: 164750 entries, 0 to 164749\n",
      "Data columns (total 21 columns):\n",
      " #   Column            Non-Null Count   Dtype \n",
      "---  ------            --------------   ----- \n",
      " 0   match_id          164750 non-null  int64 \n",
      " 1   inning            164750 non-null  int64 \n",
      " 2   batting_team      164750 non-null  object\n",
      " 3   bowling_team      164750 non-null  object\n",
      " 4   over              164750 non-null  int64 \n",
      " 5   ball              164750 non-null  int64 \n",
      " 6   batsman           164750 non-null  object\n",
      " 7   non_striker       164750 non-null  object\n",
      " 8   bowler            164750 non-null  object\n",
      " 9   is_super_over     164750 non-null  int64 \n",
      " 10  wide_runs         164750 non-null  int64 \n",
      " 11  bye_runs          164750 non-null  int64 \n",
      " 12  legbye_runs       164750 non-null  int64 \n",
      " 13  noball_runs       164750 non-null  int64 \n",
      " 14  penalty_runs      164750 non-null  int64 \n",
      " 15  batsman_runs      164750 non-null  int64 \n",
      " 16  extra_runs        164750 non-null  int64 \n",
      " 17  total_runs        164750 non-null  int64 \n",
      " 18  player_dismissed  8157 non-null    object\n",
      " 19  dismissal_kind    8157 non-null    object\n",
      " 20  fielder           5918 non-null    object\n",
      "dtypes: int64(13), object(8)\n",
      "memory usage: 26.4+ MB\n"
     ]
    }
   ],
   "source": [
    "deliveries.info()"
   ]
  },
  {
   "cell_type": "markdown",
   "metadata": {},
   "source": [
    " ```info``` function gives us the following insights into the deliveries dataframe:\n",
    "\n",
    "- There are a total of **164750 samples (rows)** and **21 columns** in the dataframe.\n",
    "  \n",
    "- There are **13 columns** with a **numeric** datatype and **8 columns** with an **object** datatype.\n",
    "  \n",
    "- There are **3 columns with missing** values in the data."
   ]
  },
  {
   "cell_type": "markdown",
   "metadata": {},
   "source": [
    "# Importing 2nd Dataset"
   ]
  },
  {
   "cell_type": "code",
   "execution_count": 6,
   "metadata": {},
   "outputs": [
    {
     "data": {
      "text/html": [
       "<div>\n",
       "<style scoped>\n",
       "    .dataframe tbody tr th:only-of-type {\n",
       "        vertical-align: middle;\n",
       "    }\n",
       "\n",
       "    .dataframe tbody tr th {\n",
       "        vertical-align: top;\n",
       "    }\n",
       "\n",
       "    .dataframe thead th {\n",
       "        text-align: right;\n",
       "    }\n",
       "</style>\n",
       "<table border=\"1\" class=\"dataframe\">\n",
       "  <thead>\n",
       "    <tr style=\"text-align: right;\">\n",
       "      <th></th>\n",
       "      <th>id</th>\n",
       "      <th>season</th>\n",
       "      <th>city</th>\n",
       "      <th>date</th>\n",
       "      <th>team1</th>\n",
       "      <th>team2</th>\n",
       "      <th>toss_winner</th>\n",
       "      <th>toss_decision</th>\n",
       "      <th>result</th>\n",
       "      <th>dl_applied</th>\n",
       "      <th>winner</th>\n",
       "      <th>win_by_runs</th>\n",
       "      <th>win_by_wickets</th>\n",
       "      <th>player_of_match</th>\n",
       "      <th>venue</th>\n",
       "      <th>umpire1</th>\n",
       "      <th>umpire2</th>\n",
       "      <th>umpire3</th>\n",
       "    </tr>\n",
       "  </thead>\n",
       "  <tbody>\n",
       "    <tr>\n",
       "      <th>0</th>\n",
       "      <td>1</td>\n",
       "      <td>2017</td>\n",
       "      <td>Hyderabad</td>\n",
       "      <td>2017-04-05</td>\n",
       "      <td>Sunrisers Hyderabad</td>\n",
       "      <td>Royal Challengers Bangalore</td>\n",
       "      <td>Royal Challengers Bangalore</td>\n",
       "      <td>field</td>\n",
       "      <td>normal</td>\n",
       "      <td>0</td>\n",
       "      <td>Sunrisers Hyderabad</td>\n",
       "      <td>35</td>\n",
       "      <td>0</td>\n",
       "      <td>Yuvraj Singh</td>\n",
       "      <td>Rajiv Gandhi International Stadium, Uppal</td>\n",
       "      <td>AY Dandekar</td>\n",
       "      <td>NJ Llong</td>\n",
       "      <td>NaN</td>\n",
       "    </tr>\n",
       "    <tr>\n",
       "      <th>1</th>\n",
       "      <td>2</td>\n",
       "      <td>2017</td>\n",
       "      <td>Pune</td>\n",
       "      <td>2017-04-06</td>\n",
       "      <td>Mumbai Indians</td>\n",
       "      <td>Rising Pune Supergiant</td>\n",
       "      <td>Rising Pune Supergiant</td>\n",
       "      <td>field</td>\n",
       "      <td>normal</td>\n",
       "      <td>0</td>\n",
       "      <td>Rising Pune Supergiant</td>\n",
       "      <td>0</td>\n",
       "      <td>7</td>\n",
       "      <td>SPD Smith</td>\n",
       "      <td>Maharashtra Cricket Association Stadium</td>\n",
       "      <td>A Nand Kishore</td>\n",
       "      <td>S Ravi</td>\n",
       "      <td>NaN</td>\n",
       "    </tr>\n",
       "    <tr>\n",
       "      <th>2</th>\n",
       "      <td>3</td>\n",
       "      <td>2017</td>\n",
       "      <td>Rajkot</td>\n",
       "      <td>2017-04-07</td>\n",
       "      <td>Gujarat Lions</td>\n",
       "      <td>Kolkata Knight Riders</td>\n",
       "      <td>Kolkata Knight Riders</td>\n",
       "      <td>field</td>\n",
       "      <td>normal</td>\n",
       "      <td>0</td>\n",
       "      <td>Kolkata Knight Riders</td>\n",
       "      <td>0</td>\n",
       "      <td>10</td>\n",
       "      <td>CA Lynn</td>\n",
       "      <td>Saurashtra Cricket Association Stadium</td>\n",
       "      <td>Nitin Menon</td>\n",
       "      <td>CK Nandan</td>\n",
       "      <td>NaN</td>\n",
       "    </tr>\n",
       "    <tr>\n",
       "      <th>3</th>\n",
       "      <td>4</td>\n",
       "      <td>2017</td>\n",
       "      <td>Indore</td>\n",
       "      <td>2017-04-08</td>\n",
       "      <td>Rising Pune Supergiant</td>\n",
       "      <td>Kings XI Punjab</td>\n",
       "      <td>Kings XI Punjab</td>\n",
       "      <td>field</td>\n",
       "      <td>normal</td>\n",
       "      <td>0</td>\n",
       "      <td>Kings XI Punjab</td>\n",
       "      <td>0</td>\n",
       "      <td>6</td>\n",
       "      <td>GJ Maxwell</td>\n",
       "      <td>Holkar Cricket Stadium</td>\n",
       "      <td>AK Chaudhary</td>\n",
       "      <td>C Shamshuddin</td>\n",
       "      <td>NaN</td>\n",
       "    </tr>\n",
       "    <tr>\n",
       "      <th>4</th>\n",
       "      <td>5</td>\n",
       "      <td>2017</td>\n",
       "      <td>Bangalore</td>\n",
       "      <td>2017-04-08</td>\n",
       "      <td>Royal Challengers Bangalore</td>\n",
       "      <td>Delhi Daredevils</td>\n",
       "      <td>Royal Challengers Bangalore</td>\n",
       "      <td>bat</td>\n",
       "      <td>normal</td>\n",
       "      <td>0</td>\n",
       "      <td>Royal Challengers Bangalore</td>\n",
       "      <td>15</td>\n",
       "      <td>0</td>\n",
       "      <td>KM Jadhav</td>\n",
       "      <td>M Chinnaswamy Stadium</td>\n",
       "      <td>NaN</td>\n",
       "      <td>NaN</td>\n",
       "      <td>NaN</td>\n",
       "    </tr>\n",
       "  </tbody>\n",
       "</table>\n",
       "</div>"
      ],
      "text/plain": [
       "   id  season       city        date                        team1  \\\n",
       "0  1   2017    Hyderabad  2017-04-05  Sunrisers Hyderabad           \n",
       "1  2   2017    Pune       2017-04-06  Mumbai Indians                \n",
       "2  3   2017    Rajkot     2017-04-07  Gujarat Lions                 \n",
       "3  4   2017    Indore     2017-04-08  Rising Pune Supergiant        \n",
       "4  5   2017    Bangalore  2017-04-08  Royal Challengers Bangalore   \n",
       "\n",
       "                         team2                  toss_winner toss_decision  \\\n",
       "0  Royal Challengers Bangalore  Royal Challengers Bangalore  field          \n",
       "1  Rising Pune Supergiant       Rising Pune Supergiant       field          \n",
       "2  Kolkata Knight Riders        Kolkata Knight Riders        field          \n",
       "3  Kings XI Punjab              Kings XI Punjab              field          \n",
       "4  Delhi Daredevils             Royal Challengers Bangalore  bat            \n",
       "\n",
       "   result  dl_applied                       winner  win_by_runs  \\\n",
       "0  normal  0           Sunrisers Hyderabad          35            \n",
       "1  normal  0           Rising Pune Supergiant       0             \n",
       "2  normal  0           Kolkata Knight Riders        0             \n",
       "3  normal  0           Kings XI Punjab              0             \n",
       "4  normal  0           Royal Challengers Bangalore  15            \n",
       "\n",
       "   win_by_wickets player_of_match                                      venue  \\\n",
       "0  0               Yuvraj Singh    Rajiv Gandhi International Stadium, Uppal   \n",
       "1  7               SPD Smith       Maharashtra Cricket Association Stadium     \n",
       "2  10              CA Lynn         Saurashtra Cricket Association Stadium      \n",
       "3  6               GJ Maxwell      Holkar Cricket Stadium                      \n",
       "4  0               KM Jadhav       M Chinnaswamy Stadium                       \n",
       "\n",
       "          umpire1        umpire2 umpire3  \n",
       "0  AY Dandekar     NJ Llong       NaN     \n",
       "1  A Nand Kishore  S Ravi         NaN     \n",
       "2  Nitin Menon     CK Nandan      NaN     \n",
       "3  AK Chaudhary    C Shamshuddin  NaN     \n",
       "4  NaN             NaN            NaN     "
      ]
     },
     "execution_count": 6,
     "metadata": {},
     "output_type": "execute_result"
    }
   ],
   "source": [
    "# Importing the 2nd dataset (McDonald's Store Information dataset).\n",
    "\n",
    "matches = pd.read_csv(r'https://raw.githubusercontent.com/insaid2018/Term-1/master/Data/Projects/matches.csv')\n",
    "matches.head()"
   ]
  },
  {
   "cell_type": "markdown",
   "metadata": {},
   "source": [
    "### Description of the Dataset\n",
    "\n",
    "- This dataset provides information about every match played between 2008 to 2016 such as location, contesting teams, umpires, results, etc.\n",
    "\n",
    "\n",
    "| Column Name                    | Description                                                                                |\n",
    "| -------------------------------|:------------------------------------------------------------------------------------------:| \n",
    "| id                             | This is the id of each match                                                               | \n",
    "| season                         | The season of the IPL                                                                      | \n",
    "| city                           | Name of the store.                                                                         |\n",
    "| date                           | Match played date                                                                          |\n",
    "| team1                          | Name of team 1                                                                             |\n",
    "| team2                          | Name of team 1                                                                             |\n",
    "| toss_winner                    | Name of the team winning the toss                                                          |\n",
    "| toss_decision                  | Decision taken by the toss winning team                                                    |\n",
    "| result                         | The result of the match                                                                    |\n",
    "| dl_applied                     | Weather DL was applied during the match                                                    |\n",
    "| winner                         | The winning team name                                                                      |\n",
    "| win_by_runs                    | Number of runs by which the match was won                                                  |\n",
    "| win_by_wickets                 | Number of wickets by which the match was won                                               |\n",
    "| player_of_match                | The best player of the match                                                               |\n",
    "| venue                          | The venue at which the match was played                                                    |\n",
    "| umpire1                        | Umpire 1 of the match                                                                      |\n",
    "| umpire2                        | Umpire 2 of the match                                                                      |\n",
    "| umpire3                        | Umpire 3 of the match                                                                      |\n",
    "\n"
   ]
  },
  {
   "cell_type": "code",
   "execution_count": 7,
   "metadata": {},
   "outputs": [
    {
     "name": "stdout",
     "output_type": "stream",
     "text": [
      "<class 'pandas.core.frame.DataFrame'>\n",
      "RangeIndex: 696 entries, 0 to 695\n",
      "Data columns (total 18 columns):\n",
      " #   Column           Non-Null Count  Dtype \n",
      "---  ------           --------------  ----- \n",
      " 0   id               696 non-null    int64 \n",
      " 1   season           696 non-null    int64 \n",
      " 2   city             689 non-null    object\n",
      " 3   date             696 non-null    object\n",
      " 4   team1            696 non-null    object\n",
      " 5   team2            696 non-null    object\n",
      " 6   toss_winner      696 non-null    object\n",
      " 7   toss_decision    696 non-null    object\n",
      " 8   result           696 non-null    object\n",
      " 9   dl_applied       696 non-null    int64 \n",
      " 10  winner           693 non-null    object\n",
      " 11  win_by_runs      696 non-null    int64 \n",
      " 12  win_by_wickets   696 non-null    int64 \n",
      " 13  player_of_match  693 non-null    object\n",
      " 14  venue            696 non-null    object\n",
      " 15  umpire1          695 non-null    object\n",
      " 16  umpire2          695 non-null    object\n",
      " 17  umpire3          60 non-null     object\n",
      "dtypes: int64(5), object(13)\n",
      "memory usage: 98.0+ KB\n"
     ]
    }
   ],
   "source": [
    "matches.info()"
   ]
  },
  {
   "cell_type": "markdown",
   "metadata": {},
   "source": [
    " ```info``` function gives us the following insights into the matches dataframe:\n",
    "\n",
    " - There are a total of **696 samples (rows)** and **18 columns** in the dataframe.\n",
    "  \n",
    " - There are **5 columns** with a **numeric** datatype and **13 columns** with an **object** datatype.\n",
    "  \n",
    " - There are **6 columns with missing** values in the data."
   ]
  },
  {
   "cell_type": "markdown",
   "metadata": {},
   "source": [
    "-  We are going to perform a merge on the two dataframes - deliveries and matches on the basis of matches_id of deliveries dataframe and id column of matches dataframe to create a new dataframe ipl_data, in order to make our EDA easier"
   ]
  },
  {
   "cell_type": "code",
   "execution_count": 8,
   "metadata": {},
   "outputs": [
    {
     "data": {
      "text/html": [
       "<div>\n",
       "<style scoped>\n",
       "    .dataframe tbody tr th:only-of-type {\n",
       "        vertical-align: middle;\n",
       "    }\n",
       "\n",
       "    .dataframe tbody tr th {\n",
       "        vertical-align: top;\n",
       "    }\n",
       "\n",
       "    .dataframe thead th {\n",
       "        text-align: right;\n",
       "    }\n",
       "</style>\n",
       "<table border=\"1\" class=\"dataframe\">\n",
       "  <thead>\n",
       "    <tr style=\"text-align: right;\">\n",
       "      <th></th>\n",
       "      <th>match_id</th>\n",
       "      <th>season</th>\n",
       "      <th>city</th>\n",
       "      <th>date</th>\n",
       "      <th>team1</th>\n",
       "      <th>team2</th>\n",
       "      <th>toss_winner</th>\n",
       "      <th>toss_decision</th>\n",
       "      <th>result</th>\n",
       "      <th>dl_applied</th>\n",
       "      <th>winner</th>\n",
       "      <th>win_by_runs</th>\n",
       "      <th>win_by_wickets</th>\n",
       "      <th>player_of_match</th>\n",
       "      <th>venue</th>\n",
       "      <th>umpire1</th>\n",
       "      <th>umpire2</th>\n",
       "      <th>umpire3</th>\n",
       "      <th>inning</th>\n",
       "      <th>batting_team</th>\n",
       "      <th>bowling_team</th>\n",
       "      <th>over</th>\n",
       "      <th>ball</th>\n",
       "      <th>batsman</th>\n",
       "      <th>non_striker</th>\n",
       "      <th>bowler</th>\n",
       "      <th>is_super_over</th>\n",
       "      <th>wide_runs</th>\n",
       "      <th>bye_runs</th>\n",
       "      <th>legbye_runs</th>\n",
       "      <th>noball_runs</th>\n",
       "      <th>penalty_runs</th>\n",
       "      <th>batsman_runs</th>\n",
       "      <th>extra_runs</th>\n",
       "      <th>total_runs</th>\n",
       "      <th>player_dismissed</th>\n",
       "      <th>dismissal_kind</th>\n",
       "      <th>fielder</th>\n",
       "    </tr>\n",
       "  </thead>\n",
       "  <tbody>\n",
       "    <tr>\n",
       "      <th>0</th>\n",
       "      <td>1</td>\n",
       "      <td>2017</td>\n",
       "      <td>Hyderabad</td>\n",
       "      <td>2017-04-05</td>\n",
       "      <td>Sunrisers Hyderabad</td>\n",
       "      <td>Royal Challengers Bangalore</td>\n",
       "      <td>Royal Challengers Bangalore</td>\n",
       "      <td>field</td>\n",
       "      <td>normal</td>\n",
       "      <td>0</td>\n",
       "      <td>Sunrisers Hyderabad</td>\n",
       "      <td>35</td>\n",
       "      <td>0</td>\n",
       "      <td>Yuvraj Singh</td>\n",
       "      <td>Rajiv Gandhi International Stadium, Uppal</td>\n",
       "      <td>AY Dandekar</td>\n",
       "      <td>NJ Llong</td>\n",
       "      <td>NaN</td>\n",
       "      <td>1</td>\n",
       "      <td>Sunrisers Hyderabad</td>\n",
       "      <td>Royal Challengers Bangalore</td>\n",
       "      <td>1</td>\n",
       "      <td>1</td>\n",
       "      <td>DA Warner</td>\n",
       "      <td>S Dhawan</td>\n",
       "      <td>TS Mills</td>\n",
       "      <td>0</td>\n",
       "      <td>0</td>\n",
       "      <td>0</td>\n",
       "      <td>0</td>\n",
       "      <td>0</td>\n",
       "      <td>0</td>\n",
       "      <td>0</td>\n",
       "      <td>0</td>\n",
       "      <td>0</td>\n",
       "      <td>NaN</td>\n",
       "      <td>NaN</td>\n",
       "      <td>NaN</td>\n",
       "    </tr>\n",
       "    <tr>\n",
       "      <th>1</th>\n",
       "      <td>1</td>\n",
       "      <td>2017</td>\n",
       "      <td>Hyderabad</td>\n",
       "      <td>2017-04-05</td>\n",
       "      <td>Sunrisers Hyderabad</td>\n",
       "      <td>Royal Challengers Bangalore</td>\n",
       "      <td>Royal Challengers Bangalore</td>\n",
       "      <td>field</td>\n",
       "      <td>normal</td>\n",
       "      <td>0</td>\n",
       "      <td>Sunrisers Hyderabad</td>\n",
       "      <td>35</td>\n",
       "      <td>0</td>\n",
       "      <td>Yuvraj Singh</td>\n",
       "      <td>Rajiv Gandhi International Stadium, Uppal</td>\n",
       "      <td>AY Dandekar</td>\n",
       "      <td>NJ Llong</td>\n",
       "      <td>NaN</td>\n",
       "      <td>1</td>\n",
       "      <td>Sunrisers Hyderabad</td>\n",
       "      <td>Royal Challengers Bangalore</td>\n",
       "      <td>1</td>\n",
       "      <td>2</td>\n",
       "      <td>DA Warner</td>\n",
       "      <td>S Dhawan</td>\n",
       "      <td>TS Mills</td>\n",
       "      <td>0</td>\n",
       "      <td>0</td>\n",
       "      <td>0</td>\n",
       "      <td>0</td>\n",
       "      <td>0</td>\n",
       "      <td>0</td>\n",
       "      <td>0</td>\n",
       "      <td>0</td>\n",
       "      <td>0</td>\n",
       "      <td>NaN</td>\n",
       "      <td>NaN</td>\n",
       "      <td>NaN</td>\n",
       "    </tr>\n",
       "    <tr>\n",
       "      <th>2</th>\n",
       "      <td>1</td>\n",
       "      <td>2017</td>\n",
       "      <td>Hyderabad</td>\n",
       "      <td>2017-04-05</td>\n",
       "      <td>Sunrisers Hyderabad</td>\n",
       "      <td>Royal Challengers Bangalore</td>\n",
       "      <td>Royal Challengers Bangalore</td>\n",
       "      <td>field</td>\n",
       "      <td>normal</td>\n",
       "      <td>0</td>\n",
       "      <td>Sunrisers Hyderabad</td>\n",
       "      <td>35</td>\n",
       "      <td>0</td>\n",
       "      <td>Yuvraj Singh</td>\n",
       "      <td>Rajiv Gandhi International Stadium, Uppal</td>\n",
       "      <td>AY Dandekar</td>\n",
       "      <td>NJ Llong</td>\n",
       "      <td>NaN</td>\n",
       "      <td>1</td>\n",
       "      <td>Sunrisers Hyderabad</td>\n",
       "      <td>Royal Challengers Bangalore</td>\n",
       "      <td>1</td>\n",
       "      <td>3</td>\n",
       "      <td>DA Warner</td>\n",
       "      <td>S Dhawan</td>\n",
       "      <td>TS Mills</td>\n",
       "      <td>0</td>\n",
       "      <td>0</td>\n",
       "      <td>0</td>\n",
       "      <td>0</td>\n",
       "      <td>0</td>\n",
       "      <td>0</td>\n",
       "      <td>4</td>\n",
       "      <td>0</td>\n",
       "      <td>4</td>\n",
       "      <td>NaN</td>\n",
       "      <td>NaN</td>\n",
       "      <td>NaN</td>\n",
       "    </tr>\n",
       "    <tr>\n",
       "      <th>3</th>\n",
       "      <td>1</td>\n",
       "      <td>2017</td>\n",
       "      <td>Hyderabad</td>\n",
       "      <td>2017-04-05</td>\n",
       "      <td>Sunrisers Hyderabad</td>\n",
       "      <td>Royal Challengers Bangalore</td>\n",
       "      <td>Royal Challengers Bangalore</td>\n",
       "      <td>field</td>\n",
       "      <td>normal</td>\n",
       "      <td>0</td>\n",
       "      <td>Sunrisers Hyderabad</td>\n",
       "      <td>35</td>\n",
       "      <td>0</td>\n",
       "      <td>Yuvraj Singh</td>\n",
       "      <td>Rajiv Gandhi International Stadium, Uppal</td>\n",
       "      <td>AY Dandekar</td>\n",
       "      <td>NJ Llong</td>\n",
       "      <td>NaN</td>\n",
       "      <td>1</td>\n",
       "      <td>Sunrisers Hyderabad</td>\n",
       "      <td>Royal Challengers Bangalore</td>\n",
       "      <td>1</td>\n",
       "      <td>4</td>\n",
       "      <td>DA Warner</td>\n",
       "      <td>S Dhawan</td>\n",
       "      <td>TS Mills</td>\n",
       "      <td>0</td>\n",
       "      <td>0</td>\n",
       "      <td>0</td>\n",
       "      <td>0</td>\n",
       "      <td>0</td>\n",
       "      <td>0</td>\n",
       "      <td>0</td>\n",
       "      <td>0</td>\n",
       "      <td>0</td>\n",
       "      <td>NaN</td>\n",
       "      <td>NaN</td>\n",
       "      <td>NaN</td>\n",
       "    </tr>\n",
       "    <tr>\n",
       "      <th>4</th>\n",
       "      <td>1</td>\n",
       "      <td>2017</td>\n",
       "      <td>Hyderabad</td>\n",
       "      <td>2017-04-05</td>\n",
       "      <td>Sunrisers Hyderabad</td>\n",
       "      <td>Royal Challengers Bangalore</td>\n",
       "      <td>Royal Challengers Bangalore</td>\n",
       "      <td>field</td>\n",
       "      <td>normal</td>\n",
       "      <td>0</td>\n",
       "      <td>Sunrisers Hyderabad</td>\n",
       "      <td>35</td>\n",
       "      <td>0</td>\n",
       "      <td>Yuvraj Singh</td>\n",
       "      <td>Rajiv Gandhi International Stadium, Uppal</td>\n",
       "      <td>AY Dandekar</td>\n",
       "      <td>NJ Llong</td>\n",
       "      <td>NaN</td>\n",
       "      <td>1</td>\n",
       "      <td>Sunrisers Hyderabad</td>\n",
       "      <td>Royal Challengers Bangalore</td>\n",
       "      <td>1</td>\n",
       "      <td>5</td>\n",
       "      <td>DA Warner</td>\n",
       "      <td>S Dhawan</td>\n",
       "      <td>TS Mills</td>\n",
       "      <td>0</td>\n",
       "      <td>2</td>\n",
       "      <td>0</td>\n",
       "      <td>0</td>\n",
       "      <td>0</td>\n",
       "      <td>0</td>\n",
       "      <td>0</td>\n",
       "      <td>2</td>\n",
       "      <td>2</td>\n",
       "      <td>NaN</td>\n",
       "      <td>NaN</td>\n",
       "      <td>NaN</td>\n",
       "    </tr>\n",
       "  </tbody>\n",
       "</table>\n",
       "</div>"
      ],
      "text/plain": [
       "   match_id  season       city        date                team1  \\\n",
       "0  1         2017    Hyderabad  2017-04-05  Sunrisers Hyderabad   \n",
       "1  1         2017    Hyderabad  2017-04-05  Sunrisers Hyderabad   \n",
       "2  1         2017    Hyderabad  2017-04-05  Sunrisers Hyderabad   \n",
       "3  1         2017    Hyderabad  2017-04-05  Sunrisers Hyderabad   \n",
       "4  1         2017    Hyderabad  2017-04-05  Sunrisers Hyderabad   \n",
       "\n",
       "                         team2                  toss_winner toss_decision  \\\n",
       "0  Royal Challengers Bangalore  Royal Challengers Bangalore  field          \n",
       "1  Royal Challengers Bangalore  Royal Challengers Bangalore  field          \n",
       "2  Royal Challengers Bangalore  Royal Challengers Bangalore  field          \n",
       "3  Royal Challengers Bangalore  Royal Challengers Bangalore  field          \n",
       "4  Royal Challengers Bangalore  Royal Challengers Bangalore  field          \n",
       "\n",
       "   result  dl_applied               winner  win_by_runs  win_by_wickets  \\\n",
       "0  normal  0           Sunrisers Hyderabad  35           0                \n",
       "1  normal  0           Sunrisers Hyderabad  35           0                \n",
       "2  normal  0           Sunrisers Hyderabad  35           0                \n",
       "3  normal  0           Sunrisers Hyderabad  35           0                \n",
       "4  normal  0           Sunrisers Hyderabad  35           0                \n",
       "\n",
       "  player_of_match                                      venue      umpire1  \\\n",
       "0  Yuvraj Singh    Rajiv Gandhi International Stadium, Uppal  AY Dandekar   \n",
       "1  Yuvraj Singh    Rajiv Gandhi International Stadium, Uppal  AY Dandekar   \n",
       "2  Yuvraj Singh    Rajiv Gandhi International Stadium, Uppal  AY Dandekar   \n",
       "3  Yuvraj Singh    Rajiv Gandhi International Stadium, Uppal  AY Dandekar   \n",
       "4  Yuvraj Singh    Rajiv Gandhi International Stadium, Uppal  AY Dandekar   \n",
       "\n",
       "    umpire2 umpire3  inning         batting_team                 bowling_team  \\\n",
       "0  NJ Llong  NaN     1       Sunrisers Hyderabad  Royal Challengers Bangalore   \n",
       "1  NJ Llong  NaN     1       Sunrisers Hyderabad  Royal Challengers Bangalore   \n",
       "2  NJ Llong  NaN     1       Sunrisers Hyderabad  Royal Challengers Bangalore   \n",
       "3  NJ Llong  NaN     1       Sunrisers Hyderabad  Royal Challengers Bangalore   \n",
       "4  NJ Llong  NaN     1       Sunrisers Hyderabad  Royal Challengers Bangalore   \n",
       "\n",
       "   over  ball    batsman non_striker    bowler  is_super_over  wide_runs  \\\n",
       "0  1     1     DA Warner  S Dhawan    TS Mills  0              0           \n",
       "1  1     2     DA Warner  S Dhawan    TS Mills  0              0           \n",
       "2  1     3     DA Warner  S Dhawan    TS Mills  0              0           \n",
       "3  1     4     DA Warner  S Dhawan    TS Mills  0              0           \n",
       "4  1     5     DA Warner  S Dhawan    TS Mills  0              2           \n",
       "\n",
       "   bye_runs  legbye_runs  noball_runs  penalty_runs  batsman_runs  extra_runs  \\\n",
       "0  0         0            0            0             0             0            \n",
       "1  0         0            0            0             0             0            \n",
       "2  0         0            0            0             4             0            \n",
       "3  0         0            0            0             0             0            \n",
       "4  0         0            0            0             0             2            \n",
       "\n",
       "   total_runs player_dismissed dismissal_kind fielder  \n",
       "0  0           NaN              NaN            NaN     \n",
       "1  0           NaN              NaN            NaN     \n",
       "2  4           NaN              NaN            NaN     \n",
       "3  0           NaN              NaN            NaN     \n",
       "4  2           NaN              NaN            NaN     "
      ]
     },
     "execution_count": 8,
     "metadata": {},
     "output_type": "execute_result"
    }
   ],
   "source": [
    "matches = matches.rename(columns={'id':'match_id'})\n",
    "ipl_data = pd.merge(matches, deliveries, how='inner', on=\"match_id\")\n",
    "ipl_data.head()"
   ]
  },
  {
   "cell_type": "code",
   "execution_count": 9,
   "metadata": {},
   "outputs": [
    {
     "name": "stdout",
     "output_type": "stream",
     "text": [
      "<class 'pandas.core.frame.DataFrame'>\n",
      "Int64Index: 164750 entries, 0 to 164749\n",
      "Data columns (total 38 columns):\n",
      " #   Column            Non-Null Count   Dtype \n",
      "---  ------            --------------   ----- \n",
      " 0   match_id          164750 non-null  int64 \n",
      " 1   season            164750 non-null  int64 \n",
      " 2   city              163050 non-null  object\n",
      " 3   date              164750 non-null  object\n",
      " 4   team1             164750 non-null  object\n",
      " 5   team2             164750 non-null  object\n",
      " 6   toss_winner       164750 non-null  object\n",
      " 7   toss_decision     164750 non-null  object\n",
      " 8   result            164750 non-null  object\n",
      " 9   dl_applied        164750 non-null  int64 \n",
      " 10  winner            164429 non-null  object\n",
      " 11  win_by_runs       164750 non-null  int64 \n",
      " 12  win_by_wickets    164750 non-null  int64 \n",
      " 13  player_of_match   164429 non-null  object\n",
      " 14  venue             164750 non-null  object\n",
      " 15  umpire1           164502 non-null  object\n",
      " 16  umpire2           164502 non-null  object\n",
      " 17  umpire3           14290 non-null   object\n",
      " 18  inning            164750 non-null  int64 \n",
      " 19  batting_team      164750 non-null  object\n",
      " 20  bowling_team      164750 non-null  object\n",
      " 21  over              164750 non-null  int64 \n",
      " 22  ball              164750 non-null  int64 \n",
      " 23  batsman           164750 non-null  object\n",
      " 24  non_striker       164750 non-null  object\n",
      " 25  bowler            164750 non-null  object\n",
      " 26  is_super_over     164750 non-null  int64 \n",
      " 27  wide_runs         164750 non-null  int64 \n",
      " 28  bye_runs          164750 non-null  int64 \n",
      " 29  legbye_runs       164750 non-null  int64 \n",
      " 30  noball_runs       164750 non-null  int64 \n",
      " 31  penalty_runs      164750 non-null  int64 \n",
      " 32  batsman_runs      164750 non-null  int64 \n",
      " 33  extra_runs        164750 non-null  int64 \n",
      " 34  total_runs        164750 non-null  int64 \n",
      " 35  player_dismissed  8157 non-null    object\n",
      " 36  dismissal_kind    8157 non-null    object\n",
      " 37  fielder           5918 non-null    object\n",
      "dtypes: int64(17), object(21)\n",
      "memory usage: 49.0+ MB\n"
     ]
    }
   ],
   "source": [
    "ipl_data.info()"
   ]
  },
  {
   "cell_type": "markdown",
   "metadata": {},
   "source": [
    "```info``` function gives us the following insights into the df_merge dataframe:\n",
    "\n",
    "- There are a total of **164750 samples (rows)** and **38 columns** in the dataframe.\n",
    "  \n",
    "- There are **17 columns** with a **numeric** datatype and **21 columns** with an **object** datatype.\n",
    "  \n",
    "- There are 9 columsn with **missing** values"
   ]
  },
  {
   "cell_type": "code",
   "execution_count": 10,
   "metadata": {},
   "outputs": [
    {
     "data": {
      "text/html": [
       "<div>\n",
       "<style scoped>\n",
       "    .dataframe tbody tr th:only-of-type {\n",
       "        vertical-align: middle;\n",
       "    }\n",
       "\n",
       "    .dataframe tbody tr th {\n",
       "        vertical-align: top;\n",
       "    }\n",
       "\n",
       "    .dataframe thead th {\n",
       "        text-align: right;\n",
       "    }\n",
       "</style>\n",
       "<table border=\"1\" class=\"dataframe\">\n",
       "  <thead>\n",
       "    <tr style=\"text-align: right;\">\n",
       "      <th></th>\n",
       "      <th>match_id</th>\n",
       "      <th>season</th>\n",
       "      <th>city</th>\n",
       "      <th>date</th>\n",
       "      <th>team1</th>\n",
       "      <th>team2</th>\n",
       "      <th>toss_winner</th>\n",
       "      <th>toss_decision</th>\n",
       "      <th>result</th>\n",
       "      <th>dl_applied</th>\n",
       "      <th>winner</th>\n",
       "      <th>win_by_runs</th>\n",
       "      <th>win_by_wickets</th>\n",
       "      <th>player_of_match</th>\n",
       "      <th>venue</th>\n",
       "      <th>umpire1</th>\n",
       "      <th>umpire2</th>\n",
       "      <th>umpire3</th>\n",
       "      <th>inning</th>\n",
       "      <th>batting_team</th>\n",
       "      <th>bowling_team</th>\n",
       "      <th>over</th>\n",
       "      <th>ball</th>\n",
       "      <th>batsman</th>\n",
       "      <th>non_striker</th>\n",
       "      <th>bowler</th>\n",
       "      <th>is_super_over</th>\n",
       "      <th>wide_runs</th>\n",
       "      <th>bye_runs</th>\n",
       "      <th>legbye_runs</th>\n",
       "      <th>noball_runs</th>\n",
       "      <th>penalty_runs</th>\n",
       "      <th>batsman_runs</th>\n",
       "      <th>extra_runs</th>\n",
       "      <th>total_runs</th>\n",
       "      <th>player_dismissed</th>\n",
       "      <th>dismissal_kind</th>\n",
       "      <th>fielder</th>\n",
       "    </tr>\n",
       "  </thead>\n",
       "  <tbody>\n",
       "    <tr>\n",
       "      <th>count</th>\n",
       "      <td>164750.000000</td>\n",
       "      <td>164750.000000</td>\n",
       "      <td>163050</td>\n",
       "      <td>164750</td>\n",
       "      <td>164750</td>\n",
       "      <td>164750</td>\n",
       "      <td>164750</td>\n",
       "      <td>164750</td>\n",
       "      <td>164750</td>\n",
       "      <td>164750.000000</td>\n",
       "      <td>164429</td>\n",
       "      <td>164750.000000</td>\n",
       "      <td>164750.000000</td>\n",
       "      <td>164429</td>\n",
       "      <td>164750</td>\n",
       "      <td>164502</td>\n",
       "      <td>164502</td>\n",
       "      <td>14290</td>\n",
       "      <td>164750.000000</td>\n",
       "      <td>164750</td>\n",
       "      <td>164750</td>\n",
       "      <td>164750.000000</td>\n",
       "      <td>164750.000000</td>\n",
       "      <td>164750</td>\n",
       "      <td>164750</td>\n",
       "      <td>164750</td>\n",
       "      <td>164750.000000</td>\n",
       "      <td>164750.000000</td>\n",
       "      <td>164750.000000</td>\n",
       "      <td>164750.000000</td>\n",
       "      <td>164750.000000</td>\n",
       "      <td>164750.000000</td>\n",
       "      <td>164750.000000</td>\n",
       "      <td>164750.000000</td>\n",
       "      <td>164750.000000</td>\n",
       "      <td>8157</td>\n",
       "      <td>8157</td>\n",
       "      <td>5918</td>\n",
       "    </tr>\n",
       "    <tr>\n",
       "      <th>unique</th>\n",
       "      <td>NaN</td>\n",
       "      <td>NaN</td>\n",
       "      <td>32</td>\n",
       "      <td>498</td>\n",
       "      <td>14</td>\n",
       "      <td>14</td>\n",
       "      <td>14</td>\n",
       "      <td>2</td>\n",
       "      <td>3</td>\n",
       "      <td>NaN</td>\n",
       "      <td>14</td>\n",
       "      <td>NaN</td>\n",
       "      <td>NaN</td>\n",
       "      <td>214</td>\n",
       "      <td>35</td>\n",
       "      <td>55</td>\n",
       "      <td>58</td>\n",
       "      <td>18</td>\n",
       "      <td>NaN</td>\n",
       "      <td>14</td>\n",
       "      <td>14</td>\n",
       "      <td>NaN</td>\n",
       "      <td>NaN</td>\n",
       "      <td>488</td>\n",
       "      <td>484</td>\n",
       "      <td>378</td>\n",
       "      <td>NaN</td>\n",
       "      <td>NaN</td>\n",
       "      <td>NaN</td>\n",
       "      <td>NaN</td>\n",
       "      <td>NaN</td>\n",
       "      <td>NaN</td>\n",
       "      <td>NaN</td>\n",
       "      <td>NaN</td>\n",
       "      <td>NaN</td>\n",
       "      <td>464</td>\n",
       "      <td>9</td>\n",
       "      <td>476</td>\n",
       "    </tr>\n",
       "    <tr>\n",
       "      <th>top</th>\n",
       "      <td>NaN</td>\n",
       "      <td>NaN</td>\n",
       "      <td>Mumbai</td>\n",
       "      <td>2009-04-23</td>\n",
       "      <td>Mumbai Indians</td>\n",
       "      <td>Kolkata Knight Riders</td>\n",
       "      <td>Mumbai Indians</td>\n",
       "      <td>field</td>\n",
       "      <td>normal</td>\n",
       "      <td>NaN</td>\n",
       "      <td>Mumbai Indians</td>\n",
       "      <td>NaN</td>\n",
       "      <td>NaN</td>\n",
       "      <td>CH Gayle</td>\n",
       "      <td>M Chinnaswamy Stadium</td>\n",
       "      <td>HDPK Dharmasena</td>\n",
       "      <td>S Ravi</td>\n",
       "      <td>C Shamshuddin</td>\n",
       "      <td>NaN</td>\n",
       "      <td>Mumbai Indians</td>\n",
       "      <td>Mumbai Indians</td>\n",
       "      <td>NaN</td>\n",
       "      <td>NaN</td>\n",
       "      <td>V Kohli</td>\n",
       "      <td>SK Raina</td>\n",
       "      <td>Harbhajan Singh</td>\n",
       "      <td>NaN</td>\n",
       "      <td>NaN</td>\n",
       "      <td>NaN</td>\n",
       "      <td>NaN</td>\n",
       "      <td>NaN</td>\n",
       "      <td>NaN</td>\n",
       "      <td>NaN</td>\n",
       "      <td>NaN</td>\n",
       "      <td>NaN</td>\n",
       "      <td>SK Raina</td>\n",
       "      <td>caught</td>\n",
       "      <td>KD Karthik</td>\n",
       "    </tr>\n",
       "    <tr>\n",
       "      <th>freq</th>\n",
       "      <td>NaN</td>\n",
       "      <td>NaN</td>\n",
       "      <td>22591</td>\n",
       "      <td>513</td>\n",
       "      <td>22019</td>\n",
       "      <td>21224</td>\n",
       "      <td>21577</td>\n",
       "      <td>97308</td>\n",
       "      <td>162601</td>\n",
       "      <td>NaN</td>\n",
       "      <td>23634</td>\n",
       "      <td>NaN</td>\n",
       "      <td>NaN</td>\n",
       "      <td>4697</td>\n",
       "      <td>16872</td>\n",
       "      <td>17486</td>\n",
       "      <td>13475</td>\n",
       "      <td>1446</td>\n",
       "      <td>NaN</td>\n",
       "      <td>20673</td>\n",
       "      <td>20573</td>\n",
       "      <td>NaN</td>\n",
       "      <td>NaN</td>\n",
       "      <td>3879</td>\n",
       "      <td>3832</td>\n",
       "      <td>3182</td>\n",
       "      <td>NaN</td>\n",
       "      <td>NaN</td>\n",
       "      <td>NaN</td>\n",
       "      <td>NaN</td>\n",
       "      <td>NaN</td>\n",
       "      <td>NaN</td>\n",
       "      <td>NaN</td>\n",
       "      <td>NaN</td>\n",
       "      <td>NaN</td>\n",
       "      <td>146</td>\n",
       "      <td>4861</td>\n",
       "      <td>145</td>\n",
       "    </tr>\n",
       "    <tr>\n",
       "      <th>mean</th>\n",
       "      <td>977.951757</td>\n",
       "      <td>2012.961360</td>\n",
       "      <td>NaN</td>\n",
       "      <td>NaN</td>\n",
       "      <td>NaN</td>\n",
       "      <td>NaN</td>\n",
       "      <td>NaN</td>\n",
       "      <td>NaN</td>\n",
       "      <td>NaN</td>\n",
       "      <td>0.019472</td>\n",
       "      <td>NaN</td>\n",
       "      <td>13.589663</td>\n",
       "      <td>3.254161</td>\n",
       "      <td>NaN</td>\n",
       "      <td>NaN</td>\n",
       "      <td>NaN</td>\n",
       "      <td>NaN</td>\n",
       "      <td>NaN</td>\n",
       "      <td>1.482307</td>\n",
       "      <td>NaN</td>\n",
       "      <td>NaN</td>\n",
       "      <td>10.151879</td>\n",
       "      <td>3.616243</td>\n",
       "      <td>NaN</td>\n",
       "      <td>NaN</td>\n",
       "      <td>NaN</td>\n",
       "      <td>0.000492</td>\n",
       "      <td>0.037184</td>\n",
       "      <td>0.004898</td>\n",
       "      <td>0.021548</td>\n",
       "      <td>0.004200</td>\n",
       "      <td>0.000061</td>\n",
       "      <td>1.237238</td>\n",
       "      <td>0.067891</td>\n",
       "      <td>1.305129</td>\n",
       "      <td>NaN</td>\n",
       "      <td>NaN</td>\n",
       "      <td>NaN</td>\n",
       "    </tr>\n",
       "    <tr>\n",
       "      <th>std</th>\n",
       "      <td>2147.671843</td>\n",
       "      <td>3.063119</td>\n",
       "      <td>NaN</td>\n",
       "      <td>NaN</td>\n",
       "      <td>NaN</td>\n",
       "      <td>NaN</td>\n",
       "      <td>NaN</td>\n",
       "      <td>NaN</td>\n",
       "      <td>NaN</td>\n",
       "      <td>0.138177</td>\n",
       "      <td>NaN</td>\n",
       "      <td>23.381121</td>\n",
       "      <td>3.368754</td>\n",
       "      <td>NaN</td>\n",
       "      <td>NaN</td>\n",
       "      <td>NaN</td>\n",
       "      <td>NaN</td>\n",
       "      <td>NaN</td>\n",
       "      <td>0.501592</td>\n",
       "      <td>NaN</td>\n",
       "      <td>NaN</td>\n",
       "      <td>5.675666</td>\n",
       "      <td>1.807398</td>\n",
       "      <td>NaN</td>\n",
       "      <td>NaN</td>\n",
       "      <td>NaN</td>\n",
       "      <td>0.022168</td>\n",
       "      <td>0.254087</td>\n",
       "      <td>0.115006</td>\n",
       "      <td>0.196410</td>\n",
       "      <td>0.071111</td>\n",
       "      <td>0.017421</td>\n",
       "      <td>1.603511</td>\n",
       "      <td>0.345144</td>\n",
       "      <td>1.596255</td>\n",
       "      <td>NaN</td>\n",
       "      <td>NaN</td>\n",
       "      <td>NaN</td>\n",
       "    </tr>\n",
       "    <tr>\n",
       "      <th>min</th>\n",
       "      <td>1.000000</td>\n",
       "      <td>2008.000000</td>\n",
       "      <td>NaN</td>\n",
       "      <td>NaN</td>\n",
       "      <td>NaN</td>\n",
       "      <td>NaN</td>\n",
       "      <td>NaN</td>\n",
       "      <td>NaN</td>\n",
       "      <td>NaN</td>\n",
       "      <td>0.000000</td>\n",
       "      <td>NaN</td>\n",
       "      <td>0.000000</td>\n",
       "      <td>0.000000</td>\n",
       "      <td>NaN</td>\n",
       "      <td>NaN</td>\n",
       "      <td>NaN</td>\n",
       "      <td>NaN</td>\n",
       "      <td>NaN</td>\n",
       "      <td>1.000000</td>\n",
       "      <td>NaN</td>\n",
       "      <td>NaN</td>\n",
       "      <td>1.000000</td>\n",
       "      <td>1.000000</td>\n",
       "      <td>NaN</td>\n",
       "      <td>NaN</td>\n",
       "      <td>NaN</td>\n",
       "      <td>0.000000</td>\n",
       "      <td>0.000000</td>\n",
       "      <td>0.000000</td>\n",
       "      <td>0.000000</td>\n",
       "      <td>0.000000</td>\n",
       "      <td>0.000000</td>\n",
       "      <td>0.000000</td>\n",
       "      <td>0.000000</td>\n",
       "      <td>0.000000</td>\n",
       "      <td>NaN</td>\n",
       "      <td>NaN</td>\n",
       "      <td>NaN</td>\n",
       "    </tr>\n",
       "    <tr>\n",
       "      <th>25%</th>\n",
       "      <td>175.000000</td>\n",
       "      <td>2010.000000</td>\n",
       "      <td>NaN</td>\n",
       "      <td>NaN</td>\n",
       "      <td>NaN</td>\n",
       "      <td>NaN</td>\n",
       "      <td>NaN</td>\n",
       "      <td>NaN</td>\n",
       "      <td>NaN</td>\n",
       "      <td>0.000000</td>\n",
       "      <td>NaN</td>\n",
       "      <td>0.000000</td>\n",
       "      <td>0.000000</td>\n",
       "      <td>NaN</td>\n",
       "      <td>NaN</td>\n",
       "      <td>NaN</td>\n",
       "      <td>NaN</td>\n",
       "      <td>NaN</td>\n",
       "      <td>1.000000</td>\n",
       "      <td>NaN</td>\n",
       "      <td>NaN</td>\n",
       "      <td>5.000000</td>\n",
       "      <td>2.000000</td>\n",
       "      <td>NaN</td>\n",
       "      <td>NaN</td>\n",
       "      <td>NaN</td>\n",
       "      <td>0.000000</td>\n",
       "      <td>0.000000</td>\n",
       "      <td>0.000000</td>\n",
       "      <td>0.000000</td>\n",
       "      <td>0.000000</td>\n",
       "      <td>0.000000</td>\n",
       "      <td>0.000000</td>\n",
       "      <td>0.000000</td>\n",
       "      <td>0.000000</td>\n",
       "      <td>NaN</td>\n",
       "      <td>NaN</td>\n",
       "      <td>NaN</td>\n",
       "    </tr>\n",
       "    <tr>\n",
       "      <th>50%</th>\n",
       "      <td>349.000000</td>\n",
       "      <td>2013.000000</td>\n",
       "      <td>NaN</td>\n",
       "      <td>NaN</td>\n",
       "      <td>NaN</td>\n",
       "      <td>NaN</td>\n",
       "      <td>NaN</td>\n",
       "      <td>NaN</td>\n",
       "      <td>NaN</td>\n",
       "      <td>0.000000</td>\n",
       "      <td>NaN</td>\n",
       "      <td>0.000000</td>\n",
       "      <td>3.000000</td>\n",
       "      <td>NaN</td>\n",
       "      <td>NaN</td>\n",
       "      <td>NaN</td>\n",
       "      <td>NaN</td>\n",
       "      <td>NaN</td>\n",
       "      <td>1.000000</td>\n",
       "      <td>NaN</td>\n",
       "      <td>NaN</td>\n",
       "      <td>10.000000</td>\n",
       "      <td>4.000000</td>\n",
       "      <td>NaN</td>\n",
       "      <td>NaN</td>\n",
       "      <td>NaN</td>\n",
       "      <td>0.000000</td>\n",
       "      <td>0.000000</td>\n",
       "      <td>0.000000</td>\n",
       "      <td>0.000000</td>\n",
       "      <td>0.000000</td>\n",
       "      <td>0.000000</td>\n",
       "      <td>1.000000</td>\n",
       "      <td>0.000000</td>\n",
       "      <td>1.000000</td>\n",
       "      <td>NaN</td>\n",
       "      <td>NaN</td>\n",
       "      <td>NaN</td>\n",
       "    </tr>\n",
       "    <tr>\n",
       "      <th>75%</th>\n",
       "      <td>521.000000</td>\n",
       "      <td>2016.000000</td>\n",
       "      <td>NaN</td>\n",
       "      <td>NaN</td>\n",
       "      <td>NaN</td>\n",
       "      <td>NaN</td>\n",
       "      <td>NaN</td>\n",
       "      <td>NaN</td>\n",
       "      <td>NaN</td>\n",
       "      <td>0.000000</td>\n",
       "      <td>NaN</td>\n",
       "      <td>19.000000</td>\n",
       "      <td>6.000000</td>\n",
       "      <td>NaN</td>\n",
       "      <td>NaN</td>\n",
       "      <td>NaN</td>\n",
       "      <td>NaN</td>\n",
       "      <td>NaN</td>\n",
       "      <td>2.000000</td>\n",
       "      <td>NaN</td>\n",
       "      <td>NaN</td>\n",
       "      <td>15.000000</td>\n",
       "      <td>5.000000</td>\n",
       "      <td>NaN</td>\n",
       "      <td>NaN</td>\n",
       "      <td>NaN</td>\n",
       "      <td>0.000000</td>\n",
       "      <td>0.000000</td>\n",
       "      <td>0.000000</td>\n",
       "      <td>0.000000</td>\n",
       "      <td>0.000000</td>\n",
       "      <td>0.000000</td>\n",
       "      <td>1.000000</td>\n",
       "      <td>0.000000</td>\n",
       "      <td>1.000000</td>\n",
       "      <td>NaN</td>\n",
       "      <td>NaN</td>\n",
       "      <td>NaN</td>\n",
       "    </tr>\n",
       "    <tr>\n",
       "      <th>max</th>\n",
       "      <td>7953.000000</td>\n",
       "      <td>2018.000000</td>\n",
       "      <td>NaN</td>\n",
       "      <td>NaN</td>\n",
       "      <td>NaN</td>\n",
       "      <td>NaN</td>\n",
       "      <td>NaN</td>\n",
       "      <td>NaN</td>\n",
       "      <td>NaN</td>\n",
       "      <td>1.000000</td>\n",
       "      <td>NaN</td>\n",
       "      <td>146.000000</td>\n",
       "      <td>10.000000</td>\n",
       "      <td>NaN</td>\n",
       "      <td>NaN</td>\n",
       "      <td>NaN</td>\n",
       "      <td>NaN</td>\n",
       "      <td>NaN</td>\n",
       "      <td>4.000000</td>\n",
       "      <td>NaN</td>\n",
       "      <td>NaN</td>\n",
       "      <td>20.000000</td>\n",
       "      <td>9.000000</td>\n",
       "      <td>NaN</td>\n",
       "      <td>NaN</td>\n",
       "      <td>NaN</td>\n",
       "      <td>1.000000</td>\n",
       "      <td>5.000000</td>\n",
       "      <td>4.000000</td>\n",
       "      <td>5.000000</td>\n",
       "      <td>5.000000</td>\n",
       "      <td>5.000000</td>\n",
       "      <td>7.000000</td>\n",
       "      <td>7.000000</td>\n",
       "      <td>10.000000</td>\n",
       "      <td>NaN</td>\n",
       "      <td>NaN</td>\n",
       "      <td>NaN</td>\n",
       "    </tr>\n",
       "  </tbody>\n",
       "</table>\n",
       "</div>"
      ],
      "text/plain": [
       "             match_id         season    city        date           team1  \\\n",
       "count   164750.000000  164750.000000  163050  164750      164750           \n",
       "unique NaN            NaN             32      498         14               \n",
       "top    NaN            NaN             Mumbai  2009-04-23  Mumbai Indians   \n",
       "freq   NaN            NaN             22591   513         22019            \n",
       "mean    977.951757     2012.961360    NaN     NaN         NaN              \n",
       "std     2147.671843    3.063119       NaN     NaN         NaN              \n",
       "min     1.000000       2008.000000    NaN     NaN         NaN              \n",
       "25%     175.000000     2010.000000    NaN     NaN         NaN              \n",
       "50%     349.000000     2013.000000    NaN     NaN         NaN              \n",
       "75%     521.000000     2016.000000    NaN     NaN         NaN              \n",
       "max     7953.000000    2018.000000    NaN     NaN         NaN              \n",
       "\n",
       "                        team2     toss_winner toss_decision  result  \\\n",
       "count   164750                 164750          164750        164750   \n",
       "unique  14                     14              2             3        \n",
       "top     Kolkata Knight Riders  Mumbai Indians  field         normal   \n",
       "freq    21224                  21577           97308         162601   \n",
       "mean    NaN                    NaN             NaN           NaN      \n",
       "std     NaN                    NaN             NaN           NaN      \n",
       "min     NaN                    NaN             NaN           NaN      \n",
       "25%     NaN                    NaN             NaN           NaN      \n",
       "50%     NaN                    NaN             NaN           NaN      \n",
       "75%     NaN                    NaN             NaN           NaN      \n",
       "max     NaN                    NaN             NaN           NaN      \n",
       "\n",
       "           dl_applied          winner    win_by_runs  win_by_wickets  \\\n",
       "count   164750.000000  164429          164750.000000  164750.000000    \n",
       "unique NaN             14             NaN            NaN               \n",
       "top    NaN             Mumbai Indians NaN            NaN               \n",
       "freq   NaN             23634          NaN            NaN               \n",
       "mean    0.019472       NaN             13.589663      3.254161         \n",
       "std     0.138177       NaN             23.381121      3.368754         \n",
       "min     0.000000       NaN             0.000000       0.000000         \n",
       "25%     0.000000       NaN             0.000000       0.000000         \n",
       "50%     0.000000       NaN             0.000000       3.000000         \n",
       "75%     0.000000       NaN             19.000000      6.000000         \n",
       "max     1.000000       NaN             146.000000     10.000000        \n",
       "\n",
       "       player_of_match                  venue          umpire1 umpire2  \\\n",
       "count   164429          164750                 164502           164502   \n",
       "unique  214             35                     55               58       \n",
       "top     CH Gayle        M Chinnaswamy Stadium  HDPK Dharmasena  S Ravi   \n",
       "freq    4697            16872                  17486            13475    \n",
       "mean    NaN             NaN                    NaN              NaN      \n",
       "std     NaN             NaN                    NaN              NaN      \n",
       "min     NaN             NaN                    NaN              NaN      \n",
       "25%     NaN             NaN                    NaN              NaN      \n",
       "50%     NaN             NaN                    NaN              NaN      \n",
       "75%     NaN             NaN                    NaN              NaN      \n",
       "max     NaN             NaN                    NaN              NaN      \n",
       "\n",
       "              umpire3         inning    batting_team    bowling_team  \\\n",
       "count   14290          164750.000000  164750          164750           \n",
       "unique  18            NaN             14              14               \n",
       "top     C Shamshuddin NaN             Mumbai Indians  Mumbai Indians   \n",
       "freq    1446          NaN             20673           20573            \n",
       "mean    NaN            1.482307       NaN             NaN              \n",
       "std     NaN            0.501592       NaN             NaN              \n",
       "min     NaN            1.000000       NaN             NaN              \n",
       "25%     NaN            1.000000       NaN             NaN              \n",
       "50%     NaN            1.000000       NaN             NaN              \n",
       "75%     NaN            2.000000       NaN             NaN              \n",
       "max     NaN            4.000000       NaN             NaN              \n",
       "\n",
       "                 over           ball  batsman non_striker           bowler  \\\n",
       "count   164750.000000  164750.000000  164750   164750      164750            \n",
       "unique NaN            NaN             488      484         378               \n",
       "top    NaN            NaN             V Kohli  SK Raina    Harbhajan Singh   \n",
       "freq   NaN            NaN             3879     3832        3182              \n",
       "mean    10.151879      3.616243       NaN      NaN         NaN               \n",
       "std     5.675666       1.807398       NaN      NaN         NaN               \n",
       "min     1.000000       1.000000       NaN      NaN         NaN               \n",
       "25%     5.000000       2.000000       NaN      NaN         NaN               \n",
       "50%     10.000000      4.000000       NaN      NaN         NaN               \n",
       "75%     15.000000      5.000000       NaN      NaN         NaN               \n",
       "max     20.000000      9.000000       NaN      NaN         NaN               \n",
       "\n",
       "        is_super_over      wide_runs       bye_runs    legbye_runs  \\\n",
       "count   164750.000000  164750.000000  164750.000000  164750.000000   \n",
       "unique NaN            NaN            NaN            NaN              \n",
       "top    NaN            NaN            NaN            NaN              \n",
       "freq   NaN            NaN            NaN            NaN              \n",
       "mean    0.000492       0.037184       0.004898       0.021548        \n",
       "std     0.022168       0.254087       0.115006       0.196410        \n",
       "min     0.000000       0.000000       0.000000       0.000000        \n",
       "25%     0.000000       0.000000       0.000000       0.000000        \n",
       "50%     0.000000       0.000000       0.000000       0.000000        \n",
       "75%     0.000000       0.000000       0.000000       0.000000        \n",
       "max     1.000000       5.000000       4.000000       5.000000        \n",
       "\n",
       "          noball_runs   penalty_runs   batsman_runs     extra_runs  \\\n",
       "count   164750.000000  164750.000000  164750.000000  164750.000000   \n",
       "unique NaN            NaN            NaN            NaN              \n",
       "top    NaN            NaN            NaN            NaN              \n",
       "freq   NaN            NaN            NaN            NaN              \n",
       "mean    0.004200       0.000061       1.237238       0.067891        \n",
       "std     0.071111       0.017421       1.603511       0.345144        \n",
       "min     0.000000       0.000000       0.000000       0.000000        \n",
       "25%     0.000000       0.000000       0.000000       0.000000        \n",
       "50%     0.000000       0.000000       1.000000       0.000000        \n",
       "75%     0.000000       0.000000       1.000000       0.000000        \n",
       "max     5.000000       5.000000       7.000000       7.000000        \n",
       "\n",
       "           total_runs player_dismissed dismissal_kind     fielder  \n",
       "count   164750.000000  8157             8157           5918        \n",
       "unique NaN             464              9              476         \n",
       "top    NaN             SK Raina         caught         KD Karthik  \n",
       "freq   NaN             146              4861           145         \n",
       "mean    1.305129       NaN              NaN            NaN         \n",
       "std     1.596255       NaN              NaN            NaN         \n",
       "min     0.000000       NaN              NaN            NaN         \n",
       "25%     0.000000       NaN              NaN            NaN         \n",
       "50%     1.000000       NaN              NaN            NaN         \n",
       "75%     1.000000       NaN              NaN            NaN         \n",
       "max     10.000000      NaN              NaN            NaN         "
      ]
     },
     "execution_count": 10,
     "metadata": {},
     "output_type": "execute_result"
    }
   ],
   "source": [
    "ipl_data.describe(include='all')"
   ]
  },
  {
   "cell_type": "markdown",
   "metadata": {},
   "source": [
    "```describe``` function gives us the following insights into the dataframe:\n",
    "\n",
    "- There are missing values in city, winner, player_of_match, umpires, player_dismissed, dismissal_kind, fielder\n",
    "  \n",
    "- match_id is positively skewed. Ideally it should be consecutive numbers. Q4 seems off as compared to Q1, Q2 and Q3.\n",
    "  \n",
    "- Let us dig into more details in pandas profiling\n",
    " "
   ]
  },
  {
   "cell_type": "markdown",
   "metadata": {},
   "source": [
    "<a id=section302></a>\n",
    "### 3.2 Pandas Profiling before Data Preprocessing"
   ]
  },
  {
   "cell_type": "code",
   "execution_count": 11,
   "metadata": {},
   "outputs": [],
   "source": [
    "import pandas_profiling "
   ]
  },
  {
   "cell_type": "code",
   "execution_count": 12,
   "metadata": {},
   "outputs": [
    {
     "data": {
      "application/vnd.jupyter.widget-view+json": {
       "model_id": "f409bf2bebc8496fa8319e1292e5f0b4",
       "version_major": 2,
       "version_minor": 0
      },
      "text/plain": [
       "HBox(children=(FloatProgress(value=0.0, description='Summarize dataset', max=52.0, style=ProgressStyle(descrip…"
      ]
     },
     "metadata": {},
     "output_type": "display_data"
    },
    {
     "name": "stdout",
     "output_type": "stream",
     "text": [
      "\n"
     ]
    },
    {
     "data": {
      "application/vnd.jupyter.widget-view+json": {
       "model_id": "0e6336eac5824d18a2ca1591f69b764a",
       "version_major": 2,
       "version_minor": 0
      },
      "text/plain": [
       "HBox(children=(FloatProgress(value=0.0, description='Generate report structure', max=1.0, style=ProgressStyle(…"
      ]
     },
     "metadata": {},
     "output_type": "display_data"
    },
    {
     "name": "stdout",
     "output_type": "stream",
     "text": [
      "\n"
     ]
    },
    {
     "data": {
      "application/vnd.jupyter.widget-view+json": {
       "model_id": "1197047d2af1428da1d0af8f7b3acd9b",
       "version_major": 2,
       "version_minor": 0
      },
      "text/plain": [
       "HBox(children=(FloatProgress(value=0.0, description='Render HTML', max=1.0, style=ProgressStyle(description_wi…"
      ]
     },
     "metadata": {},
     "output_type": "display_data"
    },
    {
     "name": "stdout",
     "output_type": "stream",
     "text": [
      "\n"
     ]
    },
    {
     "data": {
      "application/vnd.jupyter.widget-view+json": {
       "model_id": "bd3092bcb0954281a81ed3b78d3f62a1",
       "version_major": 2,
       "version_minor": 0
      },
      "text/plain": [
       "HBox(children=(FloatProgress(value=0.0, description='Export report to file', max=1.0, style=ProgressStyle(desc…"
      ]
     },
     "metadata": {},
     "output_type": "display_data"
    },
    {
     "name": "stdout",
     "output_type": "stream",
     "text": [
      "\n"
     ]
    }
   ],
   "source": [
    "# To output pandas profiling report to an external html file.\n",
    "# Saving the output as profiling_before_preprocessing.html\n",
    "\n",
    "profile = ipl_data.profile_report(title='Project Profiling before Data Preprocessing')\n",
    "profile.to_file(output_file=\"Project_profiling_before_preprocessing.html\")"
   ]
  },
  {
   "cell_type": "markdown",
   "metadata": {},
   "source": [
    "**Observations from Pandas Profiling before Data Processing** <br><br>\n",
    "__Dataset info__:\n",
    "- Number of variables: 38\n",
    "- Number of observations: 164750\n",
    "- Missing cells: 625316 (10%)\n",
    "\n",
    "\n",
    "__Variables types__: \n",
    "- Numeric = 17\n",
    "- Categorical = 21\n",
    "\n",
    "<br>\n",
    "\n",
    "- **5 duplicate rows** in the dataset\n",
    "\n",
    "- **match_id** has histogram which shows that values range from **1 to 636** and then continue from **7894 to 7953**.\n",
    "        *Can be fixed by keeping match id as continuos numbers*\n",
    "\n",
    "- **season_id** ranges from **2008 to 2016**.\n",
    "\n",
    "- **City** has missing values. **7 cities missing from the matches table** and **1700 cells from ipl_data merged df**\n",
    "          *Can be fixed by looking at the venues as Venue and City have a high correlation*\n",
    "  **City** has two distinct values as **Bengaluru** and **Bangalore**\n",
    "          *Needs to be rectified by replacing Bangalore with Bengaluru*\n",
    "\n",
    "- **Date** is Categorical data. \n",
    "          *Needs to be converted to datetime\n",
    "  **Date** has 2 different format - **YY/mm/dd** and **YYYY-mm-dd**.\n",
    "          *Need to convert everything to one format\n",
    "      \n",
    "- **team1** has two distinct values as **Rising Pune Supergiants** and **Rising Pune Supergiant**\n",
    "          *Needs to be rectified by replacing Rising Pune Supergiants with Rising Pune Supergiant*\n",
    "\n",
    "- **team2* has two distinct values as **Rising Pune Supergiants** and **Rising Pune Supergiant**\n",
    "          *Needs to be rectified by replacing Rising Pune Supergiants with Rising Pune Supergiant*\n",
    "\n",
    "- **toss_winner* has two distinct values as **Rising Pune Supergiants** and **Rising Pune Supergiant**\n",
    "          *Needs to be rectified by replacing Rising Pune Supergiants with Rising Pune Supergiant*\n",
    "\n",
    "- **toss_decision** has two values of **Bat and Field**\n",
    "\n",
    "\n",
    "- **result** has 3 distinct values - **Normal(686 matches), Tie(7 matches) and No Result(3 matches)**\n",
    "\n",
    "\n",
    "- **dl_applied** is numerical of bool values 0 & 1. dl was applied for just 19 matches.\n",
    "\n",
    "- **winner** has two distinct values as **Rising Pune Supergiants** and **Rising Pune Supergiant**\n",
    "          *Needs to be rectified by replacing Rising Pune Supergiants with Rising Pune Supergiant*\n",
    "  **winner** has 3 missing values\n",
    "\n",
    "- **win_by_runs** is of numerical data type. The data is highly skewed but its due to the presence of many 0 values as these matches were won by wickets.\n",
    "\n",
    "- **win_by_wickets** has all unique values ranging from 0 to 10.The data is highly skewed but its due to the presence of many 0 values as these matches were won by runs.\n",
    "\n",
    "- **player_of_match** has a 3 missing values. This is because those matches resulted in NR (No_Result)\n",
    "\n",
    "- **venue** is of categorical type.  \n",
    "\n",
    "- **umpire1** has 1 missing value for match_id = 5\n",
    "\n",
    "- **umpire2** has 1 missing value for match_id = 5\n",
    "\n",
    "- **umpire3** has 636 missing values.\n",
    "          *This has 90%+ missing values. Hence could be dropped as it doesn't add any value to analysis\n",
    " \t\t\t \n",
    "- **inning and penalty_runs** is of categorical type. \n",
    "          *Need to convert to numberical type.\n",
    "  **inning** has value 1,2,3,4 - 3 & 4 being innings of super over.\n",
    "  \n",
    "- **batting_team** and **bowling_team**  has two distinct values as **Rising Pune Supergiants** and **Rising Pune Supergiant**\n",
    "          *Needs to be rectified by replacing Rising Pune Supergiants with Rising Pune Supergiant*\n",
    "  \n",
    " \n",
    "- **batsman_runs** has high correlation with total_runs which is logical.\n",
    "\n",
    "- **player_dissmissed**, **dismissal_kind** and **fielder** has greater than 90% NaN as wickets don't fall every ball.\n",
    "\n",
    "- All the **remaining columns** do not have any new insights"
   ]
  },
  {
   "cell_type": "markdown",
   "metadata": {},
   "source": [
    "<a id=section4></a>\n",
    "## 4. Data Preprocessing"
   ]
  },
  {
   "cell_type": "markdown",
   "metadata": {},
   "source": [
    "<a id=section401></a>\n",
    "### 4.1 Data Preprocessing"
   ]
  },
  {
   "cell_type": "markdown",
   "metadata": {},
   "source": [
    "- Here we will perform **Data Preprocessing** on our dataset, to make the data usable for **EDA**. Have mentioned the changes in observations above within two stars (*). Will first make the changes in deliveries and matches df respectively and then merge"
   ]
  },
  {
   "cell_type": "markdown",
   "metadata": {},
   "source": [
    "- 1) Make the match_id continous numbers"
   ]
  },
  {
   "cell_type": "code",
   "execution_count": 13,
   "metadata": {},
   "outputs": [],
   "source": [
    "#convert matches match_id\n",
    "arr = np.arange(637,697,1)\n",
    "matches.loc[636:,'match_id']=arr\n",
    "\n",
    "#convert deliveries match_id\n",
    "z = 637\n",
    "for i in range(150461, len(deliveries)):\n",
    "    if deliveries.loc[i,'match_id'] == deliveries.loc[i-1,'match_id']:\n",
    "        deliveries.loc[i-1,'match_id'] = z\n",
    "    else:\n",
    "        deliveries.loc[i-1,'match_id'] = z\n",
    "        z=z+1\n",
    "deliveries.loc[164749,'match_id']=696  "
   ]
  },
  {
   "cell_type": "markdown",
   "metadata": {},
   "source": [
    "- 2) Fill the missing city values. All these values are missing when venue is Dubai International Cricket stadium. Hence the city value should be dubai"
   ]
  },
  {
   "cell_type": "code",
   "execution_count": 14,
   "metadata": {},
   "outputs": [],
   "source": [
    "matches.city = matches.city.fillna('Dubai')"
   ]
  },
  {
   "cell_type": "markdown",
   "metadata": {},
   "source": [
    "- 3) Replace 'Bangalore' with 'Bengaluru'"
   ]
  },
  {
   "cell_type": "code",
   "execution_count": 15,
   "metadata": {},
   "outputs": [],
   "source": [
    "matches[\"city\"].replace({\"Bangalore\": \"Bengaluru\"}, inplace=True)"
   ]
  },
  {
   "cell_type": "markdown",
   "metadata": {},
   "source": [
    "- 4) Convert date column from categorical to datetime"
   ]
  },
  {
   "cell_type": "code",
   "execution_count": 16,
   "metadata": {},
   "outputs": [],
   "source": [
    "ser = matches.date\n",
    "ser[0:636] = pd.to_datetime( ser[0:636], format='%Y-%m-%d') \n",
    "ser[636:] = ser[636:].str.replace(\"/18\",\"/2018\")\n",
    "ser[636:] = pd.to_datetime(ser[636:], format='%d/%m/%Y') \n",
    "matches.date = pd.to_datetime(matches.date, format='%Y-%m-%d %H:%M:%S')\n",
    "matches.date = matches.date.dt.date\n",
    "matches.date = pd.to_datetime(matches.date, format='%Y-%m-%d')"
   ]
  },
  {
   "cell_type": "markdown",
   "metadata": {},
   "source": [
    "- 5) Replace Rising Pune Supergiants with Rising Pune Supergiant in all the columnns"
   ]
  },
  {
   "cell_type": "code",
   "execution_count": 17,
   "metadata": {},
   "outputs": [],
   "source": [
    "matches.replace({\"Rising Pune Supergiants\": \"Rising Pune Supergiant\"}, inplace=True)\n",
    "deliveries.replace({\"Rising Pune Supergiants\": \"Rising Pune Supergiant\"}, inplace=True)"
   ]
  },
  {
   "cell_type": "markdown",
   "metadata": {},
   "source": [
    "- 6) Change the variable inning and penalty_runs from categorical to numerical"
   ]
  },
  {
   "cell_type": "code",
   "execution_count": 18,
   "metadata": {},
   "outputs": [],
   "source": [
    "deliveries.inning = deliveries.inning.astype(int)\n",
    "deliveries.penalty_runs = deliveries.penalty_runs.astype(int)"
   ]
  },
  {
   "cell_type": "markdown",
   "metadata": {},
   "source": [
    "- 7) Drop unnecessary columns for our EDA"
   ]
  },
  {
   "cell_type": "code",
   "execution_count": 19,
   "metadata": {},
   "outputs": [],
   "source": [
    "#Drop umpire1, umpire2 and umpire3 from matches as they are not going to add any value to our analysis\n",
    "matches.drop(['umpire3', 'umpire1', 'umpire2'], 1, inplace=True)"
   ]
  },
  {
   "cell_type": "code",
   "execution_count": 20,
   "metadata": {},
   "outputs": [],
   "source": [
    "#Drop wide_runs, bye_runs, legbye_runs, noball_runs, penalty_runs from deliveries \n",
    "#as their combined value can be got from extra runs\n",
    "deliveries.drop(['wide_runs', 'bye_runs', 'legbye_runs', 'noball_runs', 'penalty_runs'], 1, inplace=True)"
   ]
  },
  {
   "cell_type": "markdown",
   "metadata": {},
   "source": [
    "- 8) Drop duplicate rows in our dataset"
   ]
  },
  {
   "cell_type": "code",
   "execution_count": 21,
   "metadata": {},
   "outputs": [],
   "source": [
    "deliveries.drop_duplicates(keep = False, inplace = True)"
   ]
  },
  {
   "cell_type": "markdown",
   "metadata": {},
   "source": [
    "<a id=section402></a>\n",
    "### 4.2 Pandas Profiling after Data Preprocessing"
   ]
  },
  {
   "cell_type": "markdown",
   "metadata": {},
   "source": [
    "- Here, we will perform **Pandas Profiling after preprocessing** our dataset, so we will name the **output file** as __profiling_after_preprocessing.html__."
   ]
  },
  {
   "cell_type": "code",
   "execution_count": 22,
   "metadata": {},
   "outputs": [],
   "source": [
    "#First merging the data sets"
   ]
  },
  {
   "cell_type": "code",
   "execution_count": 23,
   "metadata": {},
   "outputs": [],
   "source": [
    "ipl_data = pd.merge(matches, deliveries, how='inner', on=\"match_id\")"
   ]
  },
  {
   "cell_type": "code",
   "execution_count": 24,
   "metadata": {},
   "outputs": [
    {
     "data": {
      "application/vnd.jupyter.widget-view+json": {
       "model_id": "dd7dba2e7b5d4305abdb08e2a3b196b0",
       "version_major": 2,
       "version_minor": 0
      },
      "text/plain": [
       "HBox(children=(FloatProgress(value=0.0, description='Summarize dataset', max=44.0, style=ProgressStyle(descrip…"
      ]
     },
     "metadata": {},
     "output_type": "display_data"
    },
    {
     "name": "stdout",
     "output_type": "stream",
     "text": [
      "\n"
     ]
    },
    {
     "data": {
      "application/vnd.jupyter.widget-view+json": {
       "model_id": "ff0fcc964d1a4742b35572fc43821f12",
       "version_major": 2,
       "version_minor": 0
      },
      "text/plain": [
       "HBox(children=(FloatProgress(value=0.0, description='Generate report structure', max=1.0, style=ProgressStyle(…"
      ]
     },
     "metadata": {},
     "output_type": "display_data"
    },
    {
     "name": "stdout",
     "output_type": "stream",
     "text": [
      "\n"
     ]
    },
    {
     "data": {
      "application/vnd.jupyter.widget-view+json": {
       "model_id": "5d6ac96df97e40f499bd9aa3c859d27c",
       "version_major": 2,
       "version_minor": 0
      },
      "text/plain": [
       "HBox(children=(FloatProgress(value=0.0, description='Render HTML', max=1.0, style=ProgressStyle(description_wi…"
      ]
     },
     "metadata": {},
     "output_type": "display_data"
    },
    {
     "name": "stdout",
     "output_type": "stream",
     "text": [
      "\n"
     ]
    },
    {
     "data": {
      "application/vnd.jupyter.widget-view+json": {
       "model_id": "f52f505b56174a8180ae89163b962a37",
       "version_major": 2,
       "version_minor": 0
      },
      "text/plain": [
       "HBox(children=(FloatProgress(value=0.0, description='Export report to file', max=1.0, style=ProgressStyle(desc…"
      ]
     },
     "metadata": {},
     "output_type": "display_data"
    },
    {
     "name": "stdout",
     "output_type": "stream",
     "text": [
      "\n"
     ]
    }
   ],
   "source": [
    "# To output pandas profiling report to an external html file.\n",
    "# Saving the output as profiling_before_preprocessing.html\n",
    "\n",
    "profile = ipl_data.profile_report(title='Project Profiling before Data Preprocessing')\n",
    "profile.to_file(output_file=\"Project_profiling_after_preprocessing.html\")"
   ]
  },
  {
   "cell_type": "markdown",
   "metadata": {},
   "source": [
    "**Observations from Pandas Profiling post Data Processing** <br><br>\n",
    "__Dataset info__:\n",
    "- Number of variables: 30\n",
    "- Number of observations: 164750\n",
    "\n",
    "\n",
    "__Variables types__: \n",
    "- Numeric = 12\n",
    "- Categorical = 18\n",
    "\n",
    "<br>"
   ]
  },
  {
   "cell_type": "markdown",
   "metadata": {},
   "source": [
    "<a id=section501></a>\n",
    "## 5.1 Analyse how extraneous factors affect RCB"
   ]
  },
  {
   "cell_type": "markdown",
   "metadata": {},
   "source": [
    "<a id=section50101></a>\n",
    "### 5.1.1 Is toss affecting RCB?"
   ]
  },
  {
   "cell_type": "code",
   "execution_count": 25,
   "metadata": {},
   "outputs": [
    {
     "data": {
      "image/png": "[encoded data removed]",
      "text/plain": [
       "<Figure size 864x576 with 1 Axes>"
      ]
     },
     "metadata": {},
     "output_type": "display_data"
    }
   ],
   "source": [
    "matches.groupby(['toss_winner']).count()['match_id'].sort_values(ascending=False).plot(kind='bar', figsize=(12,8), fontsize=13, color='b')\n",
    "plt.grid(True)\n",
    "plt.ylabel('Number of toss wins')\n",
    "plt.xlabel('Team names')\n",
    "plt.title(\"Toss wins plotted for each team\")\n",
    "plt.show()"
   ]
  },
  {
   "cell_type": "code",
   "execution_count": 26,
   "metadata": {},
   "outputs": [
    {
     "data": {
      "text/plain": [
       "Text(0, 0.5, '% of times the teams won the match after winning the toss')"
      ]
     },
     "execution_count": 26,
     "metadata": {},
     "output_type": "execute_result"
    },
    {
     "data": {
      "image/png": "[encoded data removed]",
      "text/plain": [
       "<Figure size 864x576 with 1 Axes>"
      ]
     },
     "metadata": {},
     "output_type": "display_data"
    }
   ],
   "source": [
    "x = matches[matches.toss_winner==matches.winner].groupby(['toss_winner']).count()['match_id']*100/matches.groupby(['toss_winner']).count()['match_id']\n",
    "x.sort_values(ascending = False).plot(kind='bar',figsize=(12,8), fontsize=13, color='b')\n",
    "plt.grid(True)\n",
    "plt.xlabel('Team names')\n",
    "plt.title(\"Match wins as % of toss wins plotted for each team\")\n",
    "plt.ylabel('% of times the teams won the match after winning the toss')"
   ]
  },
  {
   "cell_type": "markdown",
   "metadata": {},
   "source": [
    "From the above charts it is quite evident that **RCB is in top 4 teams to win the toss** but **they are not even in top 6 team to win the match once toss is won**. On contrast the best teams which have won most IPLs, MI,CSK and KKR are in the top 5 making the right decision once toss is won. "
   ]
  },
  {
   "cell_type": "markdown",
   "metadata": {},
   "source": [
    "<a id=section50102></a>\n",
    "### 5.1.2 Does venue affect the results?"
   ]
  },
  {
   "cell_type": "code",
   "execution_count": 27,
   "metadata": {},
   "outputs": [],
   "source": [
    "home = []\n",
    "away = []\n",
    "#RCB home\n",
    "x = len(matches[(matches.winner == 'Royal Challengers Bangalore')&(matches.city=='Bengaluru')])*100/len(matches[(matches.city=='Bengaluru')&((matches.team1=='Royal Challengers Bangalore')|(matches.team2=='Royal Challengers Bangalore'))])\n",
    "home.append(x)\n",
    "#RCB away\n",
    "x = len(matches[(matches.winner == 'Royal Challengers Bangalore')&(matches.city!='Bengaluru')])*100/len(matches[(matches.city!='Bengaluru')&((matches.team1=='Royal Challengers Bangalore')|(matches.team2=='Royal Challengers Bangalore'))])\n",
    "away.append(x)\n",
    "#CSK home\n",
    "x = len(matches[(matches.winner == 'Chennai Super Kings')&(matches.city=='Chennai')])*100/len(matches[(matches.city=='Chennai')&((matches.team1=='Chennai Super Kings')|(matches.team2=='Chennai Super Kings'))])\n",
    "home.append(x)\n",
    "#CSK away\n",
    "x = len(matches[(matches.winner == 'Chennai Super Kings')&(matches.city!='Chennai')])*100/len(matches[(matches.city!='Chennai')&((matches.team1=='Chennai Super Kings')|(matches.team2=='Chennai Super Kings'))])\n",
    "away.append(x)\n",
    "#KKR home\n",
    "x = len(matches[(matches.winner == 'Kolkata Knight Riders')&(matches.city=='Kolkata')])*100/len(matches[(matches.city=='Kolkata')&((matches.team1=='Kolkata Knight Riders')|(matches.team2=='Kolkata Knight Riders'))])\n",
    "home.append(x)\n",
    "#KKR away\n",
    "x = len(matches[(matches.winner == 'Kolkata Knight Riders')&(matches.city!='Kolkata')])*100/len(matches[(matches.city!='Kolkata')&((matches.team1=='Kolkata Knight Riders')|(matches.team2=='Kolkata Knight Riders'))])\n",
    "away.append(x)\n",
    "#MI home\n",
    "x = len(matches[(matches.winner == 'Mumbai Indians')&(matches.city=='Mumbai')])*100/len(matches[(matches.city=='Mumbai')&((matches.team1=='Mumbai Indians')|(matches.team2=='Mumbai Indians'))])\n",
    "home.append(x)\n",
    "#MI away\n",
    "x = len(matches[(matches.winner == 'Mumbai Indians')&(matches.city!='Mumbai')])*100/len(matches[(matches.city!='Mumbai')&((matches.team1=='Mumbai Indians')|(matches.team2=='Mumbai Indians'))])\n",
    "away.append(x)"
   ]
  },
  {
   "cell_type": "code",
   "execution_count": 28,
   "metadata": {},
   "outputs": [
    {
     "data": {
      "image/png": "[encoded data removed]",
      "text/plain": [
       "<Figure size 864x576 with 2 Axes>"
      ]
     },
     "metadata": {},
     "output_type": "display_data"
    }
   ],
   "source": [
    "import matplotlib.pyplot as plt\n",
    "fig,a =  plt.subplots(1,2, figsize=(12,8))\n",
    "import numpy as np\n",
    "x = ['RCB', 'CSK', 'KKR', 'MI']\n",
    "a[0].bar(x,home)\n",
    "a[0].set_title('At Home')\n",
    "a[0].set_xlabel('Teams')\n",
    "a[0].set_ylabel('Win %')\n",
    "a[1].bar(x,away)\n",
    "a[1].set_title('Away')\n",
    "a[1].set_xlabel('Teams')\n",
    "a[1].set_ylabel('Win %')\n",
    "plt.show()"
   ]
  },
  {
   "cell_type": "markdown",
   "metadata": {},
   "source": [
    "Every season 50% of the matches are at home ground. One gets to prepare the pitch according to their liking, set boundaries according to their liking, play with their home crowd cheering, i.e. most ideal conditions for any team. RCB has not been able to encash their home conditions like other top teams and have a dismal performance of victory % less than 50 at home ground.\n",
    "Their performance is no better at away grounds. With both the % being less than 50%, RCB has always struggled to qualify to playoffs."
   ]
  },
  {
   "cell_type": "markdown",
   "metadata": {},
   "source": [
    "<a id=section502></a>\n",
    "## 5.2 Analyse how pressure affects RCB"
   ]
  },
  {
   "cell_type": "markdown",
   "metadata": {},
   "source": [
    "<a id=section50201></a>\n",
    "### 5.2.1 How have RCB fared in high score chasing games?"
   ]
  },
  {
   "cell_type": "code",
   "execution_count": 29,
   "metadata": {},
   "outputs": [],
   "source": [
    "#Caculated the scores of first batting team when RCB is bowling\n",
    "scores = deliveries[(deliveries.bowling_team=='Royal Challengers Bangalore')&(deliveries.inning==1)].groupby(['match_id']).sum()['total_runs']\n",
    "#Get the match_id of those matches where the team has scored greater than 170 runs\n",
    "indices = scores[scores>170].index\n",
    "#Get the df having the match id and the winner for those matches (PS - index shifted by 1 bec of the bw index and match_id)\n",
    "rcb_hc_df = matches.loc[(indices-1),[\"match_id\",\"winner\"]]\n",
    "#Find the length of df of total high chasing matches played by RCB\n",
    "rcb_hc_matches = len(rcb_hc_df)\n",
    "#Find the length of df where RCB has emerged victorious chasing such high total\n",
    "rcb_hc_victories = len(rcb_hc_df[rcb_hc_df.winner=='Royal Challengers Bangalore'])\n",
    "\n",
    "#Caculated the scores of first batting team when CSK is bowling\n",
    "scores = deliveries[(deliveries.bowling_team=='Chennai Super Kings')&(deliveries.inning==1)].groupby(['match_id']).sum()['total_runs']\n",
    "#Get the match_id of those matches where the team has scored greater than 170 runs\n",
    "indices = scores[scores>170].index\n",
    "#Get the df having the match id and the winner for those matches (PS - index shifted by 1 bec of the bw index and match_id)\n",
    "csk_hc_df = matches.loc[(indices-1),[\"match_id\",\"winner\"]]\n",
    "#Find the length of df of total high chasing matches played by CSK\n",
    "csk_hc_matches = len(csk_hc_df)\n",
    "#Find the length of df where CSK has emerged victorious chasing such high total\n",
    "csk_hc_victories = len(csk_hc_df[csk_hc_df.winner=='Chennai Super Kings'])\n",
    "\n",
    "#Caculated the scores of first batting team when KKR is bowling\n",
    "scores = deliveries[(deliveries.bowling_team=='Kolkata Knight Riders')&(deliveries.inning==1)].groupby(['match_id']).sum()['total_runs']\n",
    "#Get the match_id of those matches where the team has scored greater than 170 runs\n",
    "indices = scores[scores>170].index\n",
    "#Get the df having the match id and the winner for those matches (PS - index shifted by 1 bec of the bw index and match_id)\n",
    "kkr_hc_df = matches.loc[(indices-1),[\"match_id\",\"winner\"]]\n",
    "#Find the length of df of total high chasing matches played by KKR\n",
    "kkr_hc_matches = len(kkr_hc_df)\n",
    "#Find the length of df where CSK has emerged victorious chasing such high total\n",
    "kkr_hc_victories = len(kkr_hc_df[kkr_hc_df.winner=='Kolkata Knight Riders'])\n",
    "\n",
    "#Caculated the scores of first batting team when MI is bowling\n",
    "scores = deliveries[(deliveries.bowling_team=='Mumbai Indians')&(deliveries.inning==1)].groupby(['match_id']).sum()['total_runs']\n",
    "#Get the match_id of those matches where the team has scored greater than 170 runs\n",
    "indices = scores[scores>170].index\n",
    "#Get the df having the match id and the winner for those matches (PS - index shifted by 1 bec of the bw index and match_id)\n",
    "mi_hc_df = matches.loc[(indices-1),[\"match_id\",\"winner\"]]\n",
    "#Find the length of df of total high chasing matches played by KKR\n",
    "mi_hc_matches = len(mi_hc_df)\n",
    "#Find the length of df where MI has emerged victorious chasing such high total\n",
    "mi_hc_victories = len(mi_hc_df[mi_hc_df.winner=='Mumbai Indians'])"
   ]
  },
  {
   "cell_type": "code",
   "execution_count": 30,
   "metadata": {},
   "outputs": [
    {
     "data": {
      "text/plain": [
       "Text(0.5, 1.0, 'Number of high chasing matches vs wins')"
      ]
     },
     "execution_count": 30,
     "metadata": {},
     "output_type": "execute_result"
    },
    {
     "data": {
      "image/png": "[encoded data removed]",
      "text/plain": [
       "<Figure size 576x396 with 1 Axes>"
      ]
     },
     "metadata": {},
     "output_type": "display_data"
    }
   ],
   "source": [
    "data = [[rcb_hc_matches, csk_hc_matches, kkr_hc_matches, mi_hc_matches],\n",
    "[rcb_hc_victories, csk_hc_victories, kkr_hc_victories, mi_hc_victories]]\n",
    "X = np.arange(4)\n",
    "fig = plt.figure()\n",
    "ax = fig.add_axes([0,0,1,1])\n",
    "ax.grid(True)\n",
    "ax.bar(X + 0.00, data[0], color = 'b', width = 0.25)\n",
    "ax.bar(X + 0.25, data[1], color = 'g', width = 0.25)\n",
    "ax.legend(labels=['Total', 'Wins'])\n",
    "ax.set_xticks([0.25,1.25,2.25,3.25])\n",
    "ax.set_xticklabels([\"RCB\", \"CSK\", \"KKR\", \"MI\"])\n",
    "ax.set_ylabel('Number of matches')\n",
    "ax.set_xlabel('Teams')\n",
    "ax.set_title('Number of high chasing matches vs wins')"
   ]
  },
  {
   "cell_type": "markdown",
   "metadata": {},
   "source": [
    "RCB has won 11 out of 40 high chasing matches. That is about 28% win rate.\n",
    "CSK has about 52% win rate, KKR has about 42% win rate and MI has about 43% win rate.\n",
    "This says a lot about RCB conceding greater than 170 runs in more matches than other successful teams, and also about how their win% in such situations is lesser than other teams."
   ]
  },
  {
   "cell_type": "markdown",
   "metadata": {},
   "source": [
    "<a id=section50202></a>\n",
    "### 5.2.2 How have RCB fared in low score defending games?"
   ]
  },
  {
   "cell_type": "code",
   "execution_count": 31,
   "metadata": {},
   "outputs": [],
   "source": [
    "#Caculated the scores of first innings when RCB is batting\n",
    "scores = deliveries[(deliveries.batting_team=='Royal Challengers Bangalore')&(deliveries.inning==1)].groupby(['match_id']).sum()['total_runs']\n",
    "#Get the match_id of those matches where the team has scored less than 140 runs\n",
    "indices = scores[scores<140].index\n",
    "#Get the df having the match id and the winner for those matches (PS - index shifted by 1 bec of the bw index and match_id)\n",
    "rcb_ld_df = matches.loc[(indices-1),[\"match_id\",\"winner\"]]\n",
    "#Find the length of df of total low score defending matches played by RCB\n",
    "rcb_ld_matches = len(rcb_ld_df)\n",
    "#Find the length of df where RCB has emerged victorious defending such total\n",
    "rcb_ld_victories = len(rcb_ld_df[rcb_ld_df.winner=='Royal Challengers Bangalore'])\n",
    "\n",
    "#Caculated the scores of first innings when CSK is batting\n",
    "scores = deliveries[(deliveries.batting_team=='Chennai Super Kings')&(deliveries.inning==1)].groupby(['match_id']).sum()['total_runs']\n",
    "#Get the match_id of those matches where the team has scored less than 140 runs\n",
    "indices = scores[scores<130].index\n",
    "#Get the df having the match id and the winner for those matches (PS - index shifted by 1 bec of the bw index and match_id)\n",
    "csk_ld_df = matches.loc[(indices-1),[\"match_id\",\"winner\"]]\n",
    "#Find the length of df of total low score defending matches played by CSK\n",
    "csk_ld_matches = len(csk_ld_df)\n",
    "#Find the length of df where CSK has emerged victorious defending such total\n",
    "csk_ld_victories = len(csk_ld_df[csk_ld_df.winner=='Chennai Super Kings'])\n",
    "\n",
    "#Caculated the scores of first innings when KKR is batting\n",
    "scores = deliveries[(deliveries.batting_team=='Kolkata Knight Riders')&(deliveries.inning==1)].groupby(['match_id']).sum()['total_runs']\n",
    "#Get the match_id of those matches where the team has scored less than 140 runs\n",
    "indices = scores[scores<130].index\n",
    "#Get the df having the match id and the winner for those matches (PS - index shifted by 1 bec of the bw index and match_id)\n",
    "kkr_ld_df = matches.loc[(indices-1),[\"match_id\",\"winner\"]]\n",
    "#Find the length of df of total low score defending matches played by KKR\n",
    "kkr_ld_matches = len(kkr_ld_df)\n",
    "#Find the length of df where KKR has emerged victorious defending such total\n",
    "kkr_ld_victories = len(kkr_ld_df[kkr_ld_df.winner=='Kolkata Knight Riders'])\n",
    "\n",
    "#Caculated the scores of first innings when MI is batting\n",
    "scores = deliveries[(deliveries.batting_team=='Mumbai Indians')&(deliveries.inning==1)].groupby(['match_id']).sum()['total_runs']\n",
    "#Get the match_id of those matches where the team has scored less than 140 runs\n",
    "indices = scores[scores<130].index\n",
    "#Get the df having the match id and the winner for those matches (PS - index shifted by 1 bec of the bw index and match_id)\n",
    "mi_ld_df = matches.loc[(indices-1),[\"match_id\",\"winner\"]]\n",
    "#Find the length of df of total low score defending matches played by MI\n",
    "mi_ld_matches = len(mi_ld_df)\n",
    "#Find the length of df where MI has emerged victorious defending such total\n",
    "mi_ld_victories = len(mi_ld_df[mi_ld_df.winner=='Mumbai Indians'])"
   ]
  },
  {
   "cell_type": "code",
   "execution_count": 32,
   "metadata": {},
   "outputs": [
    {
     "data": {
      "text/plain": [
       "Text(0.5, 1.0, 'Number of low score matches vs wins')"
      ]
     },
     "execution_count": 32,
     "metadata": {},
     "output_type": "execute_result"
    },
    {
     "data": {
      "image/png": "[encoded data removed]",
      "text/plain": [
       "<Figure size 576x396 with 1 Axes>"
      ]
     },
     "metadata": {},
     "output_type": "display_data"
    }
   ],
   "source": [
    "data = [[rcb_ld_matches, csk_ld_matches, kkr_ld_matches, mi_ld_matches],\n",
    "[rcb_ld_victories, csk_ld_victories, kkr_ld_victories, mi_ld_victories]]\n",
    "X = np.arange(4)\n",
    "fig = plt.figure()\n",
    "ax = fig.add_axes([0,0,1,1])\n",
    "ax.grid(True)\n",
    "ax.bar(X + 0.00, data[0], color = 'b', width = 0.25)\n",
    "ax.bar(X + 0.25, data[1], color = 'g', width = 0.25)\n",
    "ax.legend(labels=['Total', 'Wins'])\n",
    "ax.set_xticks([0.25,1.25,2.25,3.25])\n",
    "ax.set_xticklabels([\"RCB\", \"CSK\", \"KKR\", \"MI\"])\n",
    "ax.set_ylabel('Number of matches')\n",
    "ax.set_xlabel('Teams')\n",
    "ax.set_title('Number of low score matches vs wins')"
   ]
  },
  {
   "cell_type": "markdown",
   "metadata": {},
   "source": [
    "RCB has succesfully defended 3 out of 15 low scoring matches. That is about 20% win rate.\n",
    "CSK has about 10% win rate, KKR has about 10% win rate and MI has about 20% win rate.\n",
    "Though their win % is equal to or better than all other successful, it says a lot about RCB scoring lesser than 140 runs in 50% more matches than other successful teams. But they have fared decently well in defending low score i.e. in one of the pressure situations."
   ]
  },
  {
   "cell_type": "markdown",
   "metadata": {},
   "source": [
    "<a id=section50203></a>\n",
    "### 5.2.3 How have RCB performed in nail-biting finishes?"
   ]
  },
  {
   "cell_type": "code",
   "execution_count": 33,
   "metadata": {},
   "outputs": [],
   "source": [
    "#Have defined nail biting finish as win_by_runs<=10 or win_by_wickets<=2\n",
    "#total nail biting matches of RCB\n",
    "rcb_nb_matches = len(matches[((matches.team1=='Royal Challengers Bangalore') | (matches.team2=='Royal Challengers Bangalore'))& (((matches.win_by_runs<=10) & (matches.win_by_runs!=0))|((matches.win_by_wickets<=2)&(matches.win_by_wickets!=0)))])\n",
    "#victories of nail biting matches of RCB\n",
    "rcb_nb_victories = len(matches[(matches.winner=='Royal Challengers Bangalore')& (((matches.win_by_runs<=10) & (matches.win_by_runs!=0))|((matches.win_by_wickets<=2)&(matches.win_by_wickets!=0)))])\n",
    "\n",
    "#total nail biting matches of CSK\n",
    "csk_nb_matches = len(matches[((matches.team1=='Chennai Super Kings') | (matches.team2=='Chennai Super Kings'))& (((matches.win_by_runs<=10) & (matches.win_by_runs!=0))|((matches.win_by_wickets<=2)&(matches.win_by_wickets!=0)))])\n",
    "#victories of nail biting matches of CSK\n",
    "csk_nb_victories = len(matches[(matches.winner=='Chennai Super Kings')& (((matches.win_by_runs<=10) & (matches.win_by_runs!=0))|((matches.win_by_wickets<=2)&(matches.win_by_wickets!=0)))])\n",
    "\n",
    "#total nail biting matches of KKR\n",
    "kkr_nb_matches = len(matches[((matches.team1=='Kolkata Knight Riders') | (matches.team2=='Kolkata Knight Riders'))& (((matches.win_by_runs<=10) & (matches.win_by_runs!=0))|((matches.win_by_wickets<=2)&(matches.win_by_wickets!=0)))])\n",
    "#victories of nail biting matches of KKR\n",
    "kkr_nb_victories = len(matches[(matches.winner=='Kolkata Knight Riders')& (((matches.win_by_runs<=10) & (matches.win_by_runs!=0))|((matches.win_by_wickets<=2)&(matches.win_by_wickets!=0)))])\n",
    "\n",
    "#total nail biting matches of MI\n",
    "mi_nb_matches = len(matches[((matches.team1=='Mumbai Indians') | (matches.team2=='Mumbai Indians'))& (((matches.win_by_runs<=10) & (matches.win_by_runs!=0))|((matches.win_by_wickets<=2)&(matches.win_by_wickets!=0)))])\n",
    "#victories of nail biting matches of MI\n",
    "mi_nb_victories = len(matches[(matches.winner=='Mumbai Indians')& (((matches.win_by_runs<=10) & (matches.win_by_runs!=0))|((matches.win_by_wickets<=2)&(matches.win_by_wickets!=0)))])"
   ]
  },
  {
   "cell_type": "code",
   "execution_count": 34,
   "metadata": {},
   "outputs": [
    {
     "data": {
      "text/plain": [
       "Text(0.5, 1.0, 'Number of nail biting matches vs wins')"
      ]
     },
     "execution_count": 34,
     "metadata": {},
     "output_type": "execute_result"
    },
    {
     "data": {
      "image/png": "[encoded data removed]",
      "text/plain": [
       "<Figure size 576x396 with 1 Axes>"
      ]
     },
     "metadata": {},
     "output_type": "display_data"
    }
   ],
   "source": [
    "data = [[rcb_nb_matches, csk_nb_matches, kkr_nb_matches, mi_nb_matches],\n",
    "[rcb_nb_victories, csk_nb_victories, kkr_nb_victories, mi_nb_victories]]\n",
    "X = np.arange(4)\n",
    "fig = plt.figure()\n",
    "ax = fig.add_axes([0,0,1,1])\n",
    "ax.grid(True)\n",
    "ax.bar(X + 0.00, data[0], color = 'b', width = 0.25)\n",
    "ax.bar(X + 0.25, data[1], color = 'g', width = 0.25)\n",
    "ax.legend(labels=['Total', 'Wins'])\n",
    "ax.set_xticks([0.25,1.25,2.25,3.25])\n",
    "ax.set_xticklabels([\"RCB\", \"CSK\", \"KKR\", \"MI\"])\n",
    "ax.set_ylabel('Number of matches')\n",
    "ax.set_xlabel('Teams')\n",
    "ax.set_title('Number of nail biting matches vs wins')"
   ]
  },
  {
   "cell_type": "markdown",
   "metadata": {},
   "source": [
    "RCB has won 7 out of 14 nail biting matches. That is about 50% win rate which is better than KKR(8/21 - 38%) but less than the top 2 teams i.e. CSK (10/19 - 53%) and MI (12/23 - 52%). "
   ]
  },
  {
   "cell_type": "markdown",
   "metadata": {},
   "source": [
    "<a id=section50204></a>\n",
    "### 5.2.4 How have RCB performed in superovers?"
   ]
  },
  {
   "cell_type": "code",
   "execution_count": 35,
   "metadata": {},
   "outputs": [],
   "source": [
    "#Have defined nail biting finish as win_by_runs<=10 or win_by_wickets<=2\n",
    "#total super over matches of RCB\n",
    "rcb_so_matches = len(ipl_data[(ipl_data.result=='tie')&((ipl_data.team1=='Royal Challengers Bangalore') | (ipl_data.team2=='Royal Challengers Bangalore'))].groupby(['winner']).count())\n",
    "#victories of super over matches of RCB\n",
    "rcb_so_victories = len(ipl_data[(ipl_data.result=='tie')&(ipl_data.winner=='Royal Challengers Bangalore')].groupby(['winner']).count())\n",
    "\n",
    "#total super over matches of CSK\n",
    "csk_so_matches = len(ipl_data[(ipl_data.result=='tie')&((ipl_data.team1=='Chennai Super Kings') | (ipl_data.team2=='Chennai Super Kings'))].groupby(['winner']).count())\n",
    "#victories of super over matches of CSK\n",
    "csk_so_victories = len(ipl_data[(ipl_data.result=='tie')&(ipl_data.winner=='Chennai Super Kings')].groupby(['winner']).count())\n",
    "\n",
    "#total super over matches of KKR\n",
    "kkr_so_matches = len(ipl_data[(ipl_data.result=='tie')&((ipl_data.team1=='Kolkata Knight Riders') | (ipl_data.team2=='Chennai Super Kings'))].groupby(['winner']).count())\n",
    "#victories of super over matches of KKR\n",
    "kkr_so_victories = len(ipl_data[(ipl_data.result=='tie')&(ipl_data.winner=='Kolkata Knight Riders')].groupby(['winner']).count())\n",
    "\n",
    "#total super over matches of MI\n",
    "mi_so_matches = len(ipl_data[(ipl_data.result=='tie')&((ipl_data.team1=='Mumbai Indians') | (ipl_data.team2=='Mumbai Indians'))].groupby(['winner']).count())\n",
    "#victories of super over matches of MI\n",
    "mi_so_victories = len(ipl_data[(ipl_data.result=='tie')&(ipl_data.winner=='Mumbai Indians')].groupby(['winner']).count())"
   ]
  },
  {
   "cell_type": "code",
   "execution_count": 36,
   "metadata": {},
   "outputs": [
    {
     "data": {
      "text/plain": [
       "Text(0.5, 1.0, 'Number of super over matches vs wins')"
      ]
     },
     "execution_count": 36,
     "metadata": {},
     "output_type": "execute_result"
    },
    {
     "data": {
      "image/png": "[encoded data removed]",
      "text/plain": [
       "<Figure size 576x396 with 1 Axes>"
      ]
     },
     "metadata": {},
     "output_type": "display_data"
    }
   ],
   "source": [
    "data = [[rcb_so_matches, csk_so_matches, kkr_so_matches, mi_so_matches],\n",
    "[rcb_so_victories, csk_so_victories, kkr_so_victories, mi_so_victories]]\n",
    "X = np.arange(4)\n",
    "fig = plt.figure()\n",
    "ax = fig.add_axes([0,0,1,1])\n",
    "ax.grid(True)\n",
    "ax.bar(X + 0.00, data[0], color = 'b', width = 0.25)\n",
    "ax.bar(X + 0.25, data[1], color = 'g', width = 0.25)\n",
    "ax.legend(labels=['Total', 'Wins'])\n",
    "ax.set_xticks([0.25,1.25,2.25,3.25])\n",
    "ax.set_xticklabels([\"RCB\", \"CSK\", \"KKR\", \"MI\"])\n",
    "ax.set_ylabel('Number of matches')\n",
    "ax.set_xlabel('Teams')\n",
    "ax.set_title('Number of super over matches vs wins')"
   ]
  },
  {
   "cell_type": "markdown",
   "metadata": {},
   "source": [
    "With very less matches played by each team, it is difficult to compare or find patterns. Also, there is no proof that RCB's performance is bad in super overs."
   ]
  },
  {
   "cell_type": "markdown",
   "metadata": {},
   "source": [
    "<a id=section50205></a>\n",
    "### 5.2.5 How has RCB performed in playoffs and finale matches?"
   ]
  },
  {
   "cell_type": "code",
   "execution_count": 37,
   "metadata": {},
   "outputs": [],
   "source": [
    "playoff_match_count = [3,3,4,4,4,4,4,4,4,4,4]"
   ]
  },
  {
   "cell_type": "code",
   "execution_count": 38,
   "metadata": {},
   "outputs": [],
   "source": [
    "#Get all playoff matches in a dataframe\n",
    "matches_df = pd.DataFrame()\n",
    "i=0\n",
    "for season_id in np.sort(matches.season.unique()):\n",
    "    temp = matches[matches.season==season_id].iloc[-playoff_match_count[i]:,]\n",
    "    #print(temp)\n",
    "    i=i+1\n",
    "    matches_df = matches_df.append(temp)\n",
    "\n",
    "matches_df.reset_index(inplace = True) \n",
    "#Filter RCB matches\n",
    "rcb_po_matches = len(matches_df[(matches_df.team1=='Royal Challengers Bangalore') | (matches_df.team2=='Royal Challengers Bangalore')])\n",
    "rcb_po_victories = len(matches_df[(matches_df.winner=='Royal Challengers Bangalore')])\n",
    "\n",
    "#Filter CSK matches\n",
    "csk_po_matches = len(matches_df[(matches_df.team1=='Chennai Super Kings') | (matches_df.team2=='Chennai Super Kings')])\n",
    "csk_po_victories = len(matches_df[(matches_df.winner=='Chennai Super Kings')])\n",
    "                                                                             \n",
    "#Filter KKR matches \n",
    "kkr_po_matches = len(matches_df[(matches_df.team1==\"Kolkata Knight Riders\") | (matches_df.team2=='Kolkata Knight Riders')])\n",
    "kkr_po_victories = len(matches_df[(matches_df.winner=='Kolkata Knight Riders')])\n",
    "\n",
    "#Filter MI matches\n",
    "mi_po_matches = len(matches_df[(matches_df.team1=='Mumbai Indians') | (matches_df.team2=='Mumbai Indians')])\n",
    "mi_po_victories = len(matches_df[(matches_df.winner=='Mumbai Indians')])"
   ]
  },
  {
   "cell_type": "code",
   "execution_count": 39,
   "metadata": {},
   "outputs": [],
   "source": [
    "#Get all final matches in a dataframe\n",
    "matches_df = pd.DataFrame()\n",
    "for season_id in np.sort(matches.season.unique()):\n",
    "    temp = matches[matches.season==season_id].iloc[-1:,]\n",
    "    matches_df = matches_df.append(temp)\n",
    "    \n",
    "#Filter RCB matches\n",
    "rcb_fi_matches = len(matches_df[(matches_df.team1=='Royal Challengers Bangalore') | (matches_df.team2=='Royal Challengers Bangalore')])\n",
    "rcb_fi_victories = len(matches_df[(matches_df.winner=='Royal Challengers Bangalore')])\n",
    "\n",
    "#Filter CSK matches\n",
    "csk_fi_matches = len(matches_df[(matches_df.team1=='Chennai Super Kings') | (matches_df.team2=='Chennai Super Kings')])\n",
    "csk_fi_victories = len(matches_df[(matches_df.winner=='Chennai Super Kings')])\n",
    "                                                                             \n",
    "#Filter KKR matches \n",
    "kkr_fi_matches = len(matches_df[(matches_df.team1==\"Kolkata Knight Riders\") | (matches_df.team2=='Kolkata Knight Riders')])\n",
    "kkr_fi_victories = len(matches_df[(matches_df.winner=='Kolkata Knight Riders')])\n",
    "\n",
    "#Filter MI matches\n",
    "mi_fi_matches = len(matches_df[(matches_df.team1=='Mumbai Indians') | (matches_df.team2=='Mumbai Indians')])\n",
    "mi_fi_victories = len(matches_df[(matches_df.winner=='Mumbai Indians')])"
   ]
  },
  {
   "cell_type": "code",
   "execution_count": 40,
   "metadata": {},
   "outputs": [
    {
     "data": {
      "image/png": "[encoded data removed]",
      "text/plain": [
       "<Figure size 864x576 with 2 Axes>"
      ]
     },
     "metadata": {},
     "output_type": "display_data"
    }
   ],
   "source": [
    "data_po = [[rcb_po_matches, csk_po_matches, kkr_po_matches, mi_po_matches],\n",
    "[rcb_po_victories, csk_po_victories, kkr_po_victories, mi_po_victories]]\n",
    "data_fi = [[rcb_fi_matches, csk_fi_matches, kkr_fi_matches, mi_fi_matches],\n",
    "[rcb_fi_victories, csk_fi_victories, kkr_fi_victories, mi_fi_victories]]\n",
    "X = np.arange(4)\n",
    "fig,ax =  plt.subplots(1,2, figsize=(12,8))\n",
    "ax[0].grid(True)\n",
    "ax[0].bar(X + 0.00, data_po[0], color = 'b', width = 0.25)\n",
    "ax[0].bar(X + 0.25, data_po[1], color = 'g', width = 0.25)\n",
    "ax[0].legend(labels=['Total', 'Wins'])\n",
    "ax[0].set_xticks([0.25,1.25,2.25,3.25])\n",
    "ax[0].set_xticklabels([\"RCB\", \"CSK\", \"KKR\", \"MI\"])\n",
    "ax[0].set_ylabel('Number of matches')\n",
    "ax[0].set_xlabel('Teams')\n",
    "ax[0].set_title('Number of play off matches vs wins')\n",
    "ax[1].grid(True)\n",
    "ax[1].bar(X + 0.00, data_fi[0], color = 'b', width = 0.25)\n",
    "ax[1].bar(X + 0.25, data_fi[1], color = 'g', width = 0.25)\n",
    "ax[1].legend(labels=['Total', 'Wins'])\n",
    "ax[1].set_xticks([0.25,1.25,2.25,3.25])\n",
    "ax[1].set_xticklabels([\"RCB\", \"CSK\", \"KKR\", \"MI\"])\n",
    "ax[1].set_ylabel('Number of matches')\n",
    "ax[1].set_xlabel('Teams')\n",
    "ax[1].set_title('Number of finale matches vs wins')\n",
    "plt.show()"
   ]
  },
  {
   "cell_type": "markdown",
   "metadata": {},
   "source": [
    "**Playoffs** <br>\n",
    "RCB has won 5 out of 11 playoff matches. That is about 45% win rate which is worse than all 3 successful teams.\n",
    "KKR(6/10 - 60%), CSK (12/19 - 63%) and MI (8/14 - 57%). \n",
    "\n",
    "**Finale**<br>\n",
    "RCB has won 0 out of 3 finale matches. Having played well in the entire series to reach the final, the team was not able to seal the title due to dismal performance in finale.\n",
    "The rest of the successful teams ensured that they are not outperformed in the finale with the following win percentages.\n",
    "KKR(2/2 - 100%), CSK (3/7 - 42%) and MI (3/4 - 75%). "
   ]
  },
  {
   "cell_type": "markdown",
   "metadata": {},
   "source": [
    "<a id=section503></a>\n",
    "## 5.3 Analyze how is RCB's batting"
   ]
  },
  {
   "cell_type": "markdown",
   "metadata": {},
   "source": [
    "<a id=section50301></a>\n",
    "### 5.3.1 How many players from each team contribute more than 20 runs in a match?"
   ]
  },
  {
   "cell_type": "code",
   "execution_count": 41,
   "metadata": {},
   "outputs": [
    {
     "data": {
      "text/plain": [
       "[50.31055900621118, 69.38775510204081, 51.533742331288344, 59.76331360946745]"
      ]
     },
     "execution_count": 41,
     "metadata": {},
     "output_type": "execute_result"
    }
   ],
   "source": [
    "#RCB\n",
    "#Extract the batsman_runs for each player\n",
    "runs = deliveries[deliveries.batting_team=='Royal Challengers Bangalore'].groupby(['match_id','batsman']).sum().batsman_runs\n",
    "#Get the list of batsman who scored greater than 20 in each match\n",
    "df = pd.DataFrame(runs[runs>20])\n",
    "df.reset_index(inplace=True)\n",
    "#Count the % of matches in which more than 2 batsman have contributed 20+ runs\n",
    "temp = df.groupby(['match_id']).count().batsman\n",
    "percentage_rcb = len(temp[temp>2])*100/len(temp)\n",
    "\n",
    "#CSK\n",
    "#Extract the batsman_runs for each player\n",
    "runs = deliveries[deliveries.batting_team=='Chennai Super Kings'].groupby(['match_id','batsman']).sum().batsman_runs\n",
    "#Get the list of batsman who scored greater than 20 in each match\n",
    "df = pd.DataFrame(runs[runs>20])\n",
    "df.reset_index(inplace=True)\n",
    "#Count the % of matches in which more than 2 batsman have contributed 20+ runs\n",
    "temp = df.groupby(['match_id']).count().batsman\n",
    "percentage_csk = len(temp[temp>2])*100/len(temp)\n",
    "\n",
    "#KKR\n",
    "#Extract the batsman_runs for each player\n",
    "runs = deliveries[deliveries.batting_team=='Kolkata Knight Riders'].groupby(['match_id','batsman']).sum().batsman_runs\n",
    "#Get the list of batsman who scored greater than 20 in each match\n",
    "df = pd.DataFrame(runs[runs>20])\n",
    "df.reset_index(inplace=True)\n",
    "#Count the % of matches in which more than 2 batsman have contributed 20+ runs\n",
    "temp = df.groupby(['match_id']).count().batsman\n",
    "percentage_kkr = len(temp[temp>2])*100/len(temp)\n",
    "\n",
    "#MI\n",
    "#Extract the batsman_runs for each player\n",
    "runs = deliveries[deliveries.batting_team=='Mumbai Indians'].groupby(['match_id','batsman']).sum().batsman_runs\n",
    "#Get the list of batsman who scored greater than 20 in each match\n",
    "df = pd.DataFrame(runs[runs>20])\n",
    "df.reset_index(inplace=True)\n",
    "#Count the % of matches in which more than 2 batsman have contributed 20+ runs\n",
    "temp = df.groupby(['match_id']).count().batsman\n",
    "percentage_mi = len(temp[temp>2])*100/len(temp)\n",
    "\n",
    "[percentage_rcb, percentage_csk, percentage_kkr, percentage_mi]"
   ]
  },
  {
   "cell_type": "code",
   "execution_count": 42,
   "metadata": {},
   "outputs": [
    {
     "data": {
      "text/plain": [
       "Text(0.5, 1.0, 'MI - % of matches >2 players scored 20+')"
      ]
     },
     "execution_count": 42,
     "metadata": {},
     "output_type": "execute_result"
    },
    {
     "data": {
      "image/png": "[encoded data removed]",
      "text/plain": [
       "<Figure size 864x576 with 4 Axes>"
      ]
     },
     "metadata": {},
     "output_type": "display_data"
    }
   ],
   "source": [
    "fig,ax = plt.subplots(2,2, figsize=(12,8))\n",
    "label = ['> 2 scored 20+', '<= 2 scored 20+']\n",
    "colors = ['green', 'blue']\n",
    "explode = (0.1,0)\n",
    "rcb_per = [percentage_rcb, 100-percentage_rcb]\n",
    "ax[0][0].pie(rcb_per, labels = label, colors= colors, explode = explode,autopct='%1.1f%%', shadow= True)\n",
    "ax[0][0].set_title('RCB - % of matches >2 players scored 20+')\n",
    "\n",
    "csk_per = [percentage_csk, 100-percentage_csk]\n",
    "ax[0][1].pie(csk_per, labels = label, colors= colors, explode = explode,autopct='%1.1f%%', shadow= True)\n",
    "ax[0][1].set_title('CSK - % of matches >2 players scored 20+')\n",
    "\n",
    "kkr_per = [percentage_kkr, 100-percentage_kkr]\n",
    "ax[1][0].pie(kkr_per, labels = label, colors= colors, explode = explode,autopct='%1.1f%%', shadow= True)\n",
    "ax[1][0].set_title('KKR - % of matches >2 players scored 20+')\n",
    "\n",
    "mi_per = [percentage_mi, 100-percentage_mi]\n",
    "ax[1][1].pie(mi_per, labels = label, colors= colors, explode = explode,autopct='%1.1f%%', shadow= True)\n",
    "ax[1][1].set_title('MI - % of matches >2 players scored 20+')\n"
   ]
  },
  {
   "cell_type": "markdown",
   "metadata": {},
   "source": [
    "According to the above graphs, for RCB in about 50% of matches, not more than 3 players have contributed 20+ runs. This puts a lot of pressure on few of the batsman in the team. KKR is only marginally better than RCB, but MI and CSK have more players contributing in ~60%  and ~70% of matches."
   ]
  },
  {
   "cell_type": "markdown",
   "metadata": {},
   "source": [
    "<a id=section50302></a>\n",
    "### 5.3.2 How many players from each team contribute more than 300 runs in a season?"
   ]
  },
  {
   "cell_type": "code",
   "execution_count": 43,
   "metadata": {},
   "outputs": [],
   "source": [
    "#Extract the season_wise score for each player\n",
    "runs = ipl_data[ipl_data.batting_team=='Royal Challengers Bangalore'].groupby(['season', 'batsman']).sum().batsman_runs\n",
    "#Get the list of batsman who scored greater than 300 in each season\n",
    "df = pd.DataFrame(runs[runs>300])\n",
    "df.reset_index(inplace=True)\n",
    "#Count the No of players who have scored more than 300 runs in each season\n",
    "rcb = df.groupby(['season']).count().batsman_runs\n",
    "\n",
    "\n",
    "#Extract the season_wise score for each player\n",
    "runs = ipl_data[ipl_data.batting_team=='Chennai Super Kings'].groupby(['season', 'batsman']).sum().batsman_runs\n",
    "#Get the list of batsman who scored greater than 300 in each season\n",
    "df = pd.DataFrame(runs[runs>300])\n",
    "df.reset_index(inplace=True)\n",
    "#Count the No of players who have scored more than 300 runs in each season\n",
    "csk = df.groupby(['season']).count().batsman_runs\n",
    "\n",
    "#Extract the season_wise score for each player\n",
    "runs = ipl_data[ipl_data.batting_team=='Kolkata Knight Riders'].groupby(['season', 'batsman']).sum().batsman_runs\n",
    "#Get the list of batsman who scored greater than 300 in each season\n",
    "df = pd.DataFrame(runs[runs>300])\n",
    "df.reset_index(inplace=True)\n",
    "#Count the No of players who have scored more than 300 runs in each season\n",
    "kkr = df.groupby(['season']).count().batsman_runs\n",
    "\n",
    "#Extract the season_wise score for each player\n",
    "runs = ipl_data[ipl_data.batting_team=='Mumbai Indians'].groupby(['season', 'batsman']).sum().batsman_runs\n",
    "#Get the list of batsman who scored greater than 300 in each season\n",
    "df = pd.DataFrame(runs[runs>300])\n",
    "df.reset_index(inplace=True)\n",
    "#Count the No of players who have scored more than 300 runs in each season\n",
    "mi = df.groupby(['season']).count().batsman_runs"
   ]
  },
  {
   "cell_type": "code",
   "execution_count": 44,
   "metadata": {},
   "outputs": [
    {
     "data": {
      "image/png": "[encoded data removed]",
      "text/plain": [
       "<Figure size 576x396 with 1 Axes>"
      ]
     },
     "metadata": {},
     "output_type": "display_data"
    }
   ],
   "source": [
    "years = list(np.arange(2008,2019,1))\n",
    "fig = plt.figure()\n",
    "ax = fig.add_axes([0,0,1,1]) # main axes\n",
    "x1 = list(rcb.index.values)\n",
    "y1 = list(rcb.values)\n",
    "x2 = list(csk.index.values)\n",
    "y2 = list(csk.values)\n",
    "x3 = list(kkr.index.values)\n",
    "y3 = list(kkr.values)\n",
    "x4 = list(mi.index.values)\n",
    "y4 = list(mi.values)\n",
    "plt.plot(x1,y1)\n",
    "plt.plot(x2,y2)\n",
    "plt.plot(x3,y3)\n",
    "plt.plot(x4,y4)\n",
    "ax.set_ylabel('Number of players who score greater than 300')\n",
    "ax.set_xlabel('Seasons')\n",
    "ax.set_title('Count of players seasonwise')\n",
    "plt.legend(labels=['RCB', 'CSK', 'KKR', 'MI'])\n",
    "ax.set_xticks(years)\n",
    "ax.grid(True)"
   ]
  },
  {
   "cell_type": "markdown",
   "metadata": {},
   "source": [
    "On an average, RCB is atmost at par or worse as compared to other successful teams. This means there are only few players contributing in the entire season."
   ]
  },
  {
   "cell_type": "markdown",
   "metadata": {},
   "source": [
    "<a id=section50305></a>\n",
    "### 5.3.5 How is the lower middle order for RCB?"
   ]
  },
  {
   "cell_type": "code",
   "execution_count": 45,
   "metadata": {},
   "outputs": [],
   "source": [
    "#RCB runs\n",
    "#Filtering the respective team\n",
    "df = deliveries[deliveries.batting_team=='Royal Challengers Bangalore']\n",
    "\n",
    "#Need to get individual balls of each batsman according to their playing position, hence sort = False\n",
    "groups = df.groupby(['match_id','batsman'], sort=False).count()['ball']\n",
    "\n",
    "#Can drop the index 'batsman' as only the balls in each position matters and not the batsman\n",
    "temp = groups.droplevel(level=1)\n",
    "\n",
    "#reset the index to get the match_ids and balls\n",
    "temp2 = temp.reset_index(drop=False)\n",
    "\n",
    "#Place them into a new data frame with positional balls\n",
    "i=0\n",
    "list_ids=temp2.match_id.unique()\n",
    "batsman_list = []\n",
    "batsman_list.append(list_ids[i])\n",
    "batsmen= pd.DataFrame()\n",
    "for index, row in temp2.iterrows():\n",
    "    if row['match_id']==list_ids[i]:\n",
    "        batsman_list.append(row['ball'])\n",
    "    else:\n",
    "        i = i+1\n",
    "        a_series = pd.Series(batsman_list)\n",
    "        batsmen = batsmen.append(a_series, ignore_index=True)\n",
    "        batsman_list = []\n",
    "        batsman_list.append(list_ids[i])\n",
    "        batsman_list.append(row['ball'])\n",
    "        \n",
    "a_series = pd.Series(batsman_list)\n",
    "batsmen = batsmen.append(a_series, ignore_index=True)\n",
    "batsmen.rename(columns={0:\"match_id\"}, inplace= True)\n",
    "rcb_positional_balls = batsmen"
   ]
  },
  {
   "cell_type": "code",
   "execution_count": 46,
   "metadata": {},
   "outputs": [],
   "source": [
    "#RCB balls\n",
    "#Filtering the respective team\n",
    "df = deliveries[deliveries.batting_team=='Royal Challengers Bangalore']\n",
    "\n",
    "#Need to get individual runs of each batsman according to their playing position, hence sort = False\n",
    "groups = df.groupby(['match_id','batsman'], sort=False).sum()['batsman_runs']\n",
    "\n",
    "#Can drop the index 'batsman' as only the score in each position matters and not the batsman\n",
    "temp = groups.droplevel(level=1)\n",
    "\n",
    "#reset the index to get the match_ids and scores\n",
    "temp2 = temp.reset_index(drop=False)\n",
    "\n",
    "#Place them into a new data frame with positional scores\n",
    "i=0\n",
    "list_ids=temp2.match_id.unique()\n",
    "batsman_list = []\n",
    "batsman_list.append(list_ids[i])\n",
    "batsmen= pd.DataFrame()\n",
    "for index, row in temp2.iterrows():\n",
    "    if row['match_id']==list_ids[i]:\n",
    "        batsman_list.append(row['batsman_runs'])\n",
    "    else:\n",
    "        i = i+1\n",
    "        a_series = pd.Series(batsman_list)\n",
    "        batsmen = batsmen.append(a_series, ignore_index=True)\n",
    "        batsman_list = []\n",
    "        batsman_list.append(list_ids[i])\n",
    "        batsman_list.append(row['batsman_runs'])\n",
    "        \n",
    "a_series = pd.Series(batsman_list)\n",
    "batsmen = batsmen.append(a_series, ignore_index=True)\n",
    "batsmen.rename(columns={0:\"match_id\"}, inplace= True)\n",
    "\n",
    "rcb_positional_runs = batsmen\n",
    "#Get the strike rate of each batsman. runs score by balls\n",
    "rcb = rcb_positional_runs*100/rcb_positional_balls\n",
    "\n",
    "#as we are interested in lower middle order batsmen, drop other positions (Middle order is 4,5,6,7)\n",
    "rcb.drop(['match_id',1, 2, 3,4, 8,9,10,11], axis=1, inplace=True)\n"
   ]
  },
  {
   "cell_type": "code",
   "execution_count": 47,
   "metadata": {},
   "outputs": [],
   "source": [
    "#CSK runs\n",
    "#Filtering the respective team\n",
    "df = deliveries[deliveries.batting_team=='Chennai Super Kings']\n",
    "\n",
    "#Need to get individual balls of each batsman according to their playing position, hence sort = False\n",
    "groups = df.groupby(['match_id','batsman'], sort=False).count()['ball']\n",
    "\n",
    "#Can drop the index 'batsman' as only the balls in each position matters and not the batsman\n",
    "temp = groups.droplevel(level=1)\n",
    "\n",
    "#reset the index to get the match_ids and balls\n",
    "temp2 = temp.reset_index(drop=False)\n",
    "\n",
    "#Place them into a new data frame with positional balls\n",
    "i=0\n",
    "list_ids=temp2.match_id.unique()\n",
    "batsman_list = []\n",
    "batsman_list.append(list_ids[i])\n",
    "batsmen= pd.DataFrame()\n",
    "for index, row in temp2.iterrows():\n",
    "    if row['match_id']==list_ids[i]:\n",
    "        batsman_list.append(row['ball'])\n",
    "    else:\n",
    "        i = i+1\n",
    "        a_series = pd.Series(batsman_list)\n",
    "        batsmen = batsmen.append(a_series, ignore_index=True)\n",
    "        batsman_list = []\n",
    "        batsman_list.append(list_ids[i])\n",
    "        batsman_list.append(row['ball'])\n",
    "        \n",
    "a_series = pd.Series(batsman_list)\n",
    "batsmen = batsmen.append(a_series, ignore_index=True)\n",
    "batsmen.rename(columns={0:\"match_id\"}, inplace= True)\n",
    "csk_positional_balls = batsmen"
   ]
  },
  {
   "cell_type": "code",
   "execution_count": 48,
   "metadata": {},
   "outputs": [],
   "source": [
    "#CSK balls\n",
    "#Filtering the respective team\n",
    "df = deliveries[deliveries.batting_team=='Chennai Super Kings']\n",
    "\n",
    "#Need to get individual runs of each batsman according to their playing position, hence sort = False\n",
    "groups = df.groupby(['match_id','batsman'], sort=False).sum()['batsman_runs']\n",
    "\n",
    "#Can drop the index 'batsman' as only the score in each position matters and not the batsman\n",
    "temp = groups.droplevel(level=1)\n",
    "\n",
    "#reset the index to get the match_ids and scores\n",
    "temp2 = temp.reset_index(drop=False)\n",
    "\n",
    "#Place them into a new data frame with positional scores\n",
    "i=0\n",
    "list_ids=temp2.match_id.unique()\n",
    "batsman_list = []\n",
    "batsman_list.append(list_ids[i])\n",
    "batsmen= pd.DataFrame()\n",
    "for index, row in temp2.iterrows():\n",
    "    if row['match_id']==list_ids[i]:\n",
    "        batsman_list.append(row['batsman_runs'])\n",
    "    else:\n",
    "        i = i+1\n",
    "        a_series = pd.Series(batsman_list)\n",
    "        batsmen = batsmen.append(a_series, ignore_index=True)\n",
    "        batsman_list = []\n",
    "        batsman_list.append(list_ids[i])\n",
    "        batsman_list.append(row['batsman_runs'])\n",
    "        \n",
    "a_series = pd.Series(batsman_list)\n",
    "batsmen = batsmen.append(a_series, ignore_index=True)\n",
    "batsmen.rename(columns={0:\"match_id\"}, inplace= True)\n",
    "\n",
    "csk_positional_runs = batsmen\n",
    "\n",
    "#Get the strike rate of each batsman. runs score by balls\n",
    "csk = csk_positional_runs*100/csk_positional_balls\n",
    "\n",
    "#as we are interested in lower middle order batsmen, drop other positions (Middle order is 4,5,6,7)\n",
    "csk.drop(['match_id',1, 2, 3, 4, 8,9,10,11], axis=1, inplace=True)\n"
   ]
  },
  {
   "cell_type": "code",
   "execution_count": 49,
   "metadata": {},
   "outputs": [],
   "source": [
    "#MI runs\n",
    "#Filtering the respective team\n",
    "df = deliveries[deliveries.batting_team=='Mumbai Indians']\n",
    "\n",
    "#Need to get individual balls of each batsman according to their playing position, hence sort = False\n",
    "groups = df.groupby(['match_id','batsman'], sort=False).count()['ball']\n",
    "\n",
    "#Can drop the index 'batsman' as only the balls in each position matters and not the batsman\n",
    "temp = groups.droplevel(level=1)\n",
    "\n",
    "#reset the index to get the match_ids and balls\n",
    "temp2 = temp.reset_index(drop=False)\n",
    "\n",
    "#Place them into a new data frame with positional balls\n",
    "i=0\n",
    "list_ids=temp2.match_id.unique()\n",
    "batsman_list = []\n",
    "batsman_list.append(list_ids[i])\n",
    "batsmen= pd.DataFrame()\n",
    "for index, row in temp2.iterrows():\n",
    "    if row['match_id']==list_ids[i]:\n",
    "        batsman_list.append(row['ball'])\n",
    "    else:\n",
    "        i = i+1\n",
    "        a_series = pd.Series(batsman_list)\n",
    "        batsmen = batsmen.append(a_series, ignore_index=True)\n",
    "        batsman_list = []\n",
    "        batsman_list.append(list_ids[i])\n",
    "        batsman_list.append(row['ball'])\n",
    "        \n",
    "a_series = pd.Series(batsman_list)\n",
    "batsmen = batsmen.append(a_series, ignore_index=True)\n",
    "batsmen.rename(columns={0:\"match_id\"}, inplace= True)\n",
    "mi_positional_balls = batsmen"
   ]
  },
  {
   "cell_type": "code",
   "execution_count": 50,
   "metadata": {},
   "outputs": [],
   "source": [
    "#MI balls\n",
    "#Filtering the respective team\n",
    "df = deliveries[deliveries.batting_team=='Mumbai Indians']\n",
    "\n",
    "#Need to get individual runs of each batsman according to their playing position, hence sort = False\n",
    "groups = df.groupby(['match_id','batsman'], sort=False).sum()['batsman_runs']\n",
    "\n",
    "#Can drop the index 'batsman' as only the score in each position matters and not the batsman\n",
    "temp = groups.droplevel(level=1)\n",
    "\n",
    "#reset the index to get the match_ids and scores\n",
    "temp2 = temp.reset_index(drop=False)\n",
    "\n",
    "#Place them into a new data frame with positional scores\n",
    "i=0\n",
    "list_ids=temp2.match_id.unique()\n",
    "batsman_list = []\n",
    "batsman_list.append(list_ids[i])\n",
    "batsmen= pd.DataFrame()\n",
    "for index, row in temp2.iterrows():\n",
    "    if row['match_id']==list_ids[i]:\n",
    "        batsman_list.append(row['batsman_runs'])\n",
    "    else:\n",
    "        i = i+1\n",
    "        a_series = pd.Series(batsman_list)\n",
    "        batsmen = batsmen.append(a_series, ignore_index=True)\n",
    "        batsman_list = []\n",
    "        batsman_list.append(list_ids[i])\n",
    "        batsman_list.append(row['batsman_runs'])\n",
    "        \n",
    "a_series = pd.Series(batsman_list)\n",
    "batsmen = batsmen.append(a_series, ignore_index=True)\n",
    "batsmen.rename(columns={0:\"match_id\"}, inplace= True)\n",
    "mi_positional_runs = batsmen\n",
    "#Get the strike rate of each batsman. runs score by balls\n",
    "mi = mi_positional_runs*100/mi_positional_balls\n",
    "\n",
    "#as we are interested in lower middle order batsmen, drop other positions (Middle order is 4,5,6,7)\n",
    "mi.drop(['match_id',1, 2, 3, 4, 8,9,10,11], axis=1, inplace=True)"
   ]
  },
  {
   "cell_type": "code",
   "execution_count": 51,
   "metadata": {},
   "outputs": [],
   "source": [
    "#KKR runs\n",
    "#Filtering the respective team\n",
    "df = deliveries[deliveries.batting_team=='Kolkata Knight Riders']\n",
    "\n",
    "#Need to get individual balls of each batsman according to their playing position, hence sort = False\n",
    "groups = df.groupby(['match_id','batsman'], sort=False).count()['ball']\n",
    "\n",
    "#Can drop the index 'batsman' as only the balls in each position matters and not the batsman\n",
    "temp = groups.droplevel(level=1)\n",
    "\n",
    "#reset the index to get the match_ids and balls\n",
    "temp2 = temp.reset_index(drop=False)\n",
    "\n",
    "#Place them into a new data frame with positional balls\n",
    "i=0\n",
    "list_ids=temp2.match_id.unique()\n",
    "batsman_list = []\n",
    "batsman_list.append(list_ids[i])\n",
    "batsmen= pd.DataFrame()\n",
    "for index, row in temp2.iterrows():\n",
    "    if row['match_id']==list_ids[i]:\n",
    "        batsman_list.append(row['ball'])\n",
    "    else:\n",
    "        i = i+1\n",
    "        a_series = pd.Series(batsman_list)\n",
    "        batsmen = batsmen.append(a_series, ignore_index=True)\n",
    "        batsman_list = []\n",
    "        batsman_list.append(list_ids[i])\n",
    "        batsman_list.append(row['ball'])\n",
    "        \n",
    "a_series = pd.Series(batsman_list)\n",
    "batsmen = batsmen.append(a_series, ignore_index=True)\n",
    "batsmen.rename(columns={0:\"match_id\"}, inplace= True)\n",
    "kkr_positional_balls = batsmen"
   ]
  },
  {
   "cell_type": "code",
   "execution_count": 52,
   "metadata": {},
   "outputs": [],
   "source": [
    "#KKR balls\n",
    "#Filtering the respective team\n",
    "df = deliveries[deliveries.batting_team=='Kolkata Knight Riders']\n",
    "\n",
    "#Need to get individual runs of each batsman according to their playing position, hence sort = False\n",
    "groups = df.groupby(['match_id','batsman'], sort=False).sum()['batsman_runs']\n",
    "\n",
    "#Can drop the index 'batsman' as only the score in each position matters and not the batsman\n",
    "temp = groups.droplevel(level=1)\n",
    "\n",
    "#reset the index to get the match_ids and scores\n",
    "temp2 = temp.reset_index(drop=False)\n",
    "\n",
    "#Place them into a new data frame with positional scores\n",
    "i=0\n",
    "list_ids=temp2.match_id.unique()\n",
    "batsman_list = []\n",
    "batsman_list.append(list_ids[i])\n",
    "batsmen= pd.DataFrame()\n",
    "for index, row in temp2.iterrows():\n",
    "    if row['match_id']==list_ids[i]:\n",
    "        batsman_list.append(row['batsman_runs'])\n",
    "    else:\n",
    "        i = i+1\n",
    "        a_series = pd.Series(batsman_list)\n",
    "        batsmen = batsmen.append(a_series, ignore_index=True)\n",
    "        batsman_list = []\n",
    "        batsman_list.append(list_ids[i])\n",
    "        batsman_list.append(row['batsman_runs'])\n",
    "        \n",
    "a_series = pd.Series(batsman_list)\n",
    "batsmen = batsmen.append(a_series, ignore_index=True)\n",
    "batsmen.rename(columns={0:\"match_id\"}, inplace= True)\n",
    "kkr_positional_runs = batsmen\n",
    "#Get the strike rate of each batsman. runs score by balls\n",
    "kkr = kkr_positional_runs*100/kkr_positional_balls\n",
    "\n",
    "#as we are interested in lower middle order batsmen, drop other positions (Middle order is 4,5,6,7)\n",
    "kkr.drop(['match_id',1, 2, 3, 4, 8,9,10,11], axis=1, inplace=True)"
   ]
  },
  {
   "cell_type": "markdown",
   "metadata": {},
   "source": [
    " - Lets plot the box plots of lower middle order batsmen for RCB"
   ]
  },
  {
   "cell_type": "code",
   "execution_count": 53,
   "metadata": {},
   "outputs": [
    {
     "data": {
      "text/plain": [
       "<matplotlib.axes._subplots.AxesSubplot at 0x1e135e25448>"
      ]
     },
     "execution_count": 53,
     "metadata": {},
     "output_type": "execute_result"
    },
    {
     "data": {
      "image/png": "[encoded data removed]",
      "text/plain": [
       "<Figure size 864x576 with 4 Axes>"
      ]
     },
     "metadata": {},
     "output_type": "display_data"
    }
   ],
   "source": [
    "fig,ax = plt.subplots(2,2, figsize=(12,8))\n",
    "rcb.plot.box(grid='True', showmeans=True, ax=ax[0][0], ylim=(-5, 300), title = 'RCB')\n",
    "csk.plot.box(grid='True', showmeans=True, ax=ax[0][1], ylim=(-5, 300), title = 'CSK')\n",
    "kkr.plot.box(grid='True', showmeans=True, ax=ax[1][0], ylim=(-5, 300), title = 'KKR')\n",
    "mi.plot.box(grid='True', showmeans=True, ax=ax[1][1], ylim=(-5, 300), title = 'MI')"
   ]
  },
  {
   "cell_type": "markdown",
   "metadata": {},
   "source": [
    "<a id=section50303></a>\n",
    "### 5.3.3 How is RCB's scoring range for all matches?"
   ]
  },
  {
   "cell_type": "code",
   "execution_count": 54,
   "metadata": {},
   "outputs": [
    {
     "data": {
      "text/plain": [
       "Text(0, 0.5, 'Runs')"
      ]
     },
     "execution_count": 54,
     "metadata": {},
     "output_type": "execute_result"
    },
    {
     "data": {
      "image/png": "[encoded data removed]",
      "text/plain": [
       "<Figure size 576x396 with 1 Axes>"
      ]
     },
     "metadata": {},
     "output_type": "display_data"
    }
   ],
   "source": [
    "rcb = deliveries[deliveries.batting_team=='Royal Challengers Bangalore'].groupby(['match_id']).sum().total_runs\n",
    "score_rcb = pd.DataFrame(rcb)\n",
    "score_rcb.reset_index(inplace = True, drop=True)\n",
    "score_rcb.rename(columns = {'total_runs':'rcb'}, inplace = True)\n",
    "csk = deliveries[deliveries.batting_team=='Chennai Super Kings'].groupby(['match_id']).sum().total_runs\n",
    "score_csk = pd.DataFrame(csk)\n",
    "score_csk.reset_index(inplace = True, drop=True)\n",
    "score_csk.rename(columns = {'total_runs':'csk'}, inplace = True)\n",
    "kkr = deliveries[deliveries.batting_team=='Kolkata Knight Riders'].groupby(['match_id']).sum().total_runs\n",
    "score_kkr = pd.DataFrame(kkr)\n",
    "score_kkr.reset_index(inplace = True, drop=True)\n",
    "score_kkr.rename(columns = {'total_runs':'kkr'}, inplace = True)\n",
    "mi = deliveries[deliveries.batting_team=='Mumbai Indians'].groupby(['match_id']).sum().total_runs\n",
    "score_mi = pd.DataFrame(mi)\n",
    "score_mi.reset_index(inplace = True, drop=True)\n",
    "score_mi.rename(columns = {'total_runs':'mi'}, inplace = True)\n",
    "\n",
    "score = pd.concat([score_rcb, score_csk, score_kkr, score_mi], axis = 1)\n",
    "df = pd.DataFrame(score, columns=['rcb', 'csk', 'kkr', 'mi'])\n",
    "df.plot.box(grid='True', showmeans=True)\n",
    "plt.title('Runs Box Plot')\n",
    "plt.xlabel('Teams')\n",
    "plt.ylabel('Runs')"
   ]
  },
  {
   "cell_type": "markdown",
   "metadata": {},
   "source": [
    "The outliers could be ignored as they may belong to DL matches or matches drawn due to rain. \n",
    "RCB has a higher range of scores but its Q2 and Q3 lie similar to other teams and the means are also comparable."
   ]
  },
  {
   "cell_type": "markdown",
   "metadata": {},
   "source": [
    "<a id=section50304></a>\n",
    "### 5.3.4 What is RCB's strike rate in last 30 balls (death batting)?"
   ]
  },
  {
   "cell_type": "code",
   "execution_count": 55,
   "metadata": {},
   "outputs": [],
   "source": [
    "#Runs Scored\n",
    "score = deliveries[deliveries.batting_team=='Royal Challengers Bangalore'].groupby(['match_id']).tail(30)\n",
    "rcb_runs = score.groupby(['match_id']).sum().total_runs.mean()\n",
    "\n",
    "score = deliveries[deliveries.batting_team=='Chennai Super Kings'].groupby(['match_id']).tail(30)\n",
    "csk_runs = score.groupby(['match_id']).sum().total_runs.mean()\n",
    "\n",
    "score = deliveries[deliveries.batting_team=='Mumbai Indians'].groupby(['match_id']).tail(30)\n",
    "kkr_runs = score.groupby(['match_id']).sum().total_runs.mean()\n",
    "\n",
    "score = deliveries[deliveries.batting_team=='Kolkata Knight Riders'].groupby(['match_id']).tail(30)\n",
    "mi_runs = score.groupby(['match_id']).sum().total_runs.mean()\n",
    "\n",
    "#Wickets given\n",
    "wickets = deliveries[deliveries.batting_team=='Royal Challengers Bangalore'].groupby(['match_id']).tail(30)\n",
    "rcb_wickets = wickets[wickets.player_dismissed.notnull()==True].groupby(['match_id']).count().player_dismissed.mean()\n",
    "\n",
    "wickets = deliveries[deliveries.batting_team=='Chennai Super Kings'].groupby(['match_id']).tail(30)\n",
    "csk_wickets = wickets[wickets.player_dismissed.notnull()==True].groupby(['match_id']).count().player_dismissed.mean()\n",
    "\n",
    "wickets = deliveries[deliveries.batting_team=='Kolkata Knight Riders'].groupby(['match_id']).tail(30)\n",
    "kkr_wickets = wickets[wickets.player_dismissed.notnull()==True].groupby(['match_id']).count().player_dismissed.mean()\n",
    "\n",
    "wickets = deliveries[deliveries.batting_team=='Mumbai Indians'].groupby(['match_id']).tail(30)\n",
    "mi_wickets = wickets[wickets.player_dismissed.notnull()==True].groupby(['match_id']).count().player_dismissed.mean()"
   ]
  },
  {
   "cell_type": "code",
   "execution_count": 56,
   "metadata": {},
   "outputs": [
    {
     "data": {
      "image/png": "[encoded data removed]",
      "text/plain": [
       "<Figure size 864x576 with 2 Axes>"
      ]
     },
     "metadata": {},
     "output_type": "display_data"
    }
   ],
   "source": [
    "fig,a = plt.subplots(1,2, figsize=(12,8))\n",
    "y = ['RCB', 'CSK', 'KKR', 'MI']\n",
    "x1 = [rcb_runs, csk_runs, kkr_runs, mi_runs]\n",
    "x2 = [rcb_wickets, csk_wickets, kkr_wickets, mi_wickets]\n",
    "a[0].barh(y,x1)\n",
    "a[0].set_title('Death Batting runs Scored')\n",
    "a[0].set_xlabel('Runs')\n",
    "a[0].set_ylabel('Teams')\n",
    "a[1].barh(y, x2)\n",
    "a[1].set_title('Death Batting wickets lost')\n",
    "a[1].set_xlabel('Wickets')\n",
    "a[1].set_ylabel('Teams')\n",
    "plt.show()"
   ]
  },
  {
   "cell_type": "markdown",
   "metadata": {},
   "source": [
    "RCB has fared well in terms of death batting. Though they give more wickets in the last 30 balls, on an average they have also scored more than other successfull teams."
   ]
  },
  {
   "cell_type": "markdown",
   "metadata": {},
   "source": [
    "<a id=section504></a>\n",
    "## 5.4 Analyze how is RCB's bowling"
   ]
  },
  {
   "cell_type": "markdown",
   "metadata": {},
   "source": [
    "<a id=section50401></a>\n",
    "### 5.4.1 How is the wickets scalped range and runs conceded range for RCB for all matches?"
   ]
  },
  {
   "cell_type": "code",
   "execution_count": 57,
   "metadata": {},
   "outputs": [],
   "source": [
    "rcb = deliveries[(deliveries.bowling_team=='Royal Challengers Bangalore') & (deliveries.dismissal_kind.notnull()==True)].groupby(['match_id']).count().ball\n",
    "wicket_rcb = pd.DataFrame(rcb)\n",
    "wicket_rcb.reset_index(inplace = True, drop=True)\n",
    "wicket_rcb.rename(columns = {'ball':'rcb_wi'}, inplace = True)\n",
    "csk = deliveries[(deliveries.bowling_team=='Chennai Super Kings') & (deliveries.dismissal_kind.notnull()==True)].groupby(['match_id']).count().ball\n",
    "wicket_csk = pd.DataFrame(csk)\n",
    "wicket_csk.reset_index(inplace = True, drop=True)\n",
    "wicket_csk.rename(columns = {'ball':'csk_wi'}, inplace = True)\n",
    "kkr = deliveries[(deliveries.bowling_team=='Kolkata Knight Riders') & (deliveries.dismissal_kind.notnull()==True)].groupby(['match_id']).count().ball\n",
    "wicket_kkr = pd.DataFrame(kkr)\n",
    "wicket_kkr.reset_index(inplace = True, drop=True)\n",
    "wicket_kkr.rename(columns = {'ball':'kkr_wi'}, inplace = True)\n",
    "mi = deliveries[(deliveries.bowling_team=='Mumbai Indians') & (deliveries.dismissal_kind.notnull()==True)].groupby(['match_id']).count().ball\n",
    "wicket_mi = pd.DataFrame(mi)\n",
    "wicket_mi.reset_index(inplace = True, drop=True)\n",
    "wicket_mi.rename(columns = {'ball':'mi_wi'}, inplace = True)\n",
    "score = pd.concat([wicket_rcb, wicket_csk, wicket_kkr, wicket_mi], axis = 1)\n",
    "df_wickets = pd.DataFrame(score, columns=['rcb_wi', 'csk_wi', 'kkr_wi', 'mi_wi'])\n",
    "\n",
    "rcb = deliveries[deliveries.bowling_team=='Royal Challengers Bangalore'].groupby(['match_id']).sum().total_runs\n",
    "score_rcb = pd.DataFrame(rcb)\n",
    "score_rcb.reset_index(inplace = True, drop=True)\n",
    "score_rcb.rename(columns = {'total_runs':'rcb_run'}, inplace = True)\n",
    "csk = deliveries[deliveries.bowling_team=='Chennai Super Kings'].groupby(['match_id']).sum().total_runs\n",
    "score_csk = pd.DataFrame(csk)\n",
    "score_csk.reset_index(inplace = True, drop=True)\n",
    "score_csk.rename(columns = {'total_runs':'csk_run'}, inplace = True)\n",
    "kkr = deliveries[deliveries.bowling_team=='Kolkata Knight Riders'].groupby(['match_id']).sum().total_runs\n",
    "score_kkr = pd.DataFrame(kkr)\n",
    "score_kkr.reset_index(inplace = True, drop=True)\n",
    "score_kkr.rename(columns = {'total_runs':'kkr_run'}, inplace = True)\n",
    "mi = deliveries[deliveries.bowling_team=='Mumbai Indians'].groupby(['match_id']).sum().total_runs\n",
    "score_mi = pd.DataFrame(mi)\n",
    "score_mi.reset_index(inplace = True, drop=True)\n",
    "score_mi.rename(columns = {'total_runs':'mi_run'}, inplace = True)\n",
    "score = pd.concat([score_rcb, score_csk, score_kkr, score_mi], axis = 1)\n",
    "df_score = pd.DataFrame(score, columns=['rcb_run', 'csk_run', 'kkr_run', 'mi_run'])"
   ]
  },
  {
   "cell_type": "code",
   "execution_count": 58,
   "metadata": {},
   "outputs": [
    {
     "data": {
      "text/plain": [
       "Text(0, 0.5, 'Runs')"
      ]
     },
     "execution_count": 58,
     "metadata": {},
     "output_type": "execute_result"
    },
    {
     "data": {
      "image/png": "[encoded data removed]",
      "text/plain": [
       "<Figure size 576x396 with 1 Axes>"
      ]
     },
     "metadata": {},
     "output_type": "display_data"
    },
    {
     "data": {
      "image/png": "[encoded data removed]",
      "text/plain": [
       "<Figure size 576x396 with 1 Axes>"
      ]
     },
     "metadata": {},
     "output_type": "display_data"
    }
   ],
   "source": [
    "df_wickets.plot.box(grid='True', showmeans = True)\n",
    "plt.title('Wickets Box Plot')\n",
    "plt.xlabel('Teams')\n",
    "plt.ylabel('Wickets')\n",
    "df_score.plot.box(grid='True', showmeans=True)\n",
    "plt.title('Runs Conceded Box Plot')\n",
    "plt.xlabel('Teams')\n",
    "plt.ylabel('Runs')"
   ]
  },
  {
   "cell_type": "markdown",
   "metadata": {},
   "source": [
    "Wickets box plot - RCB Bowling is comparitively weaker in terms of wicket taking as can be observed from the above plot. RCB's Q3 has lower values while rest of the teams have higher values. The mean as well is lower as compared to CSK and MI\n",
    "\n",
    "Runs conceded box plot - RCB has consistently conceded more runs as compared to other teams. Q2, Q3 and the mean, all are higher for RCB. \n",
    "\n",
    "Both the parameters are not stand alone, as scalping less wickets could result in conceding more runs as better batsmen are still around scoring for opponent's team."
   ]
  },
  {
   "cell_type": "markdown",
   "metadata": {},
   "source": [
    "<a id=section50402></a>\n",
    "### 5.4.2 How many players from each team contribute more than 10 wickets in a season?"
   ]
  },
  {
   "cell_type": "code",
   "execution_count": 59,
   "metadata": {},
   "outputs": [],
   "source": [
    "#Extract the season_wise wickets for each player\n",
    "wickets = ipl_data[(ipl_data.bowling_team=='Royal Challengers Bangalore') & (ipl_data.dismissal_kind.notnull()==True)].groupby(['season', 'bowler']).count().ball\n",
    "#Get the list of bowlers who got more than 15 wickets in each season\n",
    "df = pd.DataFrame(wickets[wickets>15])\n",
    "df.reset_index(inplace=True)\n",
    "#Count the No of players who have got more than 15 wickets in each season\n",
    "rcb = df.groupby(['season']).count().bowler\n",
    "\n",
    "#Extract the season_wise wickets for each player\n",
    "wickets = ipl_data[(ipl_data.bowling_team=='Chennai Super Kings') & (ipl_data.dismissal_kind.notnull()==True)].groupby(['season', 'bowler']).count().ball\n",
    "#Get the list of bowlers who got more than 15 wickets in each season\n",
    "df = pd.DataFrame(wickets[wickets>15])\n",
    "df.reset_index(inplace=True)\n",
    "#Count the No of players who have got more than 15 wickets in each season\n",
    "csk = df.groupby(['season']).count().bowler\n",
    "\n",
    "#Extract the season_wise wickets for each player\n",
    "wickets = ipl_data[(ipl_data.bowling_team=='Kolkata Knight Riders') & (ipl_data.dismissal_kind.notnull()==True)].groupby(['season', 'bowler']).count().ball\n",
    "#Get the list of bowlers who got more than 15 wickets in each season\n",
    "df = pd.DataFrame(wickets[wickets>15])\n",
    "df.reset_index(inplace=True)\n",
    "#Count the No of players who have got more than 15 wickets in each season\n",
    "kkr = df.groupby(['season']).count().bowler\n",
    "\n",
    "#Extract the season_wise wickets for each player\n",
    "wickets = ipl_data[(ipl_data.bowling_team=='Mumbai Indians') & (ipl_data.dismissal_kind.notnull()==True)].groupby(['season', 'bowler']).count().ball\n",
    "#Get the list of bowlers who got more than 15 wickets in each season\n",
    "df = pd.DataFrame(wickets[wickets>15])\n",
    "df.reset_index(inplace=True)\n",
    "#Count the No of players who have got more than 15 wickets in each season\n",
    "mi = df.groupby(['season']).count().bowler"
   ]
  },
  {
   "cell_type": "code",
   "execution_count": 60,
   "metadata": {},
   "outputs": [
    {
     "data": {
      "image/png": "[encoded data removed]",
      "text/plain": [
       "<Figure size 576x396 with 1 Axes>"
      ]
     },
     "metadata": {},
     "output_type": "display_data"
    }
   ],
   "source": [
    "years = list(np.arange(2008,2019,1))\n",
    "fig = plt.figure()\n",
    "ax = fig.add_axes([0,0,1,1]) # main axes\n",
    "x1 = list(rcb.index.values)\n",
    "y1 = list(rcb.values)\n",
    "x2 = list(csk.index.values)\n",
    "y2 = list(csk.values)\n",
    "x3 = list(kkr.index.values)\n",
    "y3 = list(kkr.values)\n",
    "x4 = list(mi.index.values)\n",
    "y4 = list(mi.values)\n",
    "plt.plot(x1,y1)\n",
    "plt.plot(x2,y2)\n",
    "plt.plot(x3,y3)\n",
    "plt.plot(x4,y4)\n",
    "ax.set_ylabel('Number of players who scalped more than 10 wickets')\n",
    "ax.set_xlabel('Seasons')\n",
    "ax.set_title('Count of players seasonwise')\n",
    "plt.legend(labels=['RCB', 'CSK', 'KKR', 'MI'])\n",
    "ax.set_xticks(years)\n",
    "ax.grid(True)"
   ]
  },
  {
   "cell_type": "markdown",
   "metadata": {},
   "source": [
    "Other than in 2009 and 2015, there have been other teams with more wicket takers contributing the the team's success rather than pressurizing a single bowler."
   ]
  },
  {
   "cell_type": "markdown",
   "metadata": {},
   "source": [
    "<a id=section50403></a>\n",
    "### 5.4.3 How is RCB's bowling in last 30 balls (death bowling)?"
   ]
  },
  {
   "cell_type": "code",
   "execution_count": 61,
   "metadata": {},
   "outputs": [],
   "source": [
    "#Runs conceded\n",
    "score = ipl_data[ipl_data.bowling_team=='Royal Challengers Bangalore'].groupby(['match_id']).tail(30)\n",
    "rcb_runs = score.groupby(['match_id']).sum().total_runs.mean()\n",
    "\n",
    "score = ipl_data[ipl_data.bowling_team=='Chennai Super Kings'].groupby(['match_id']).tail(30)\n",
    "csk_runs = score.groupby(['match_id']).sum().total_runs.mean()\n",
    "\n",
    "score = ipl_data[ipl_data.bowling_team=='Kolkata Knight Riders'].groupby(['match_id']).tail(30)\n",
    "kkr_runs = score.groupby(['match_id']).sum().total_runs.mean()\n",
    "\n",
    "score = ipl_data[ipl_data.bowling_team=='Mumbai Indians'].groupby(['match_id']).tail(30)\n",
    "mi_runs = score.groupby(['match_id']).sum().total_runs.mean()\n",
    "\n",
    "\n",
    "\n",
    "#Wickets taken\n",
    "wickets = ipl_data[ipl_data.bowling_team=='Royal Challengers Bangalore'].groupby(['match_id']).tail(30)\n",
    "rcb_wickets = wickets[wickets.player_dismissed.notnull()==True].groupby(['match_id']).count().player_dismissed.mean()\n",
    "\n",
    "wickets = ipl_data[ipl_data.bowling_team=='Chennai Super Kings'].groupby(['match_id']).tail(30)\n",
    "csk_wickets = wickets[wickets.player_dismissed.notnull()==True].groupby(['match_id']).count().player_dismissed.mean()\n",
    "\n",
    "wickets = ipl_data[ipl_data.bowling_team=='Kolkata Knight Riders'].groupby(['match_id']).tail(30)\n",
    "kkr_wickets = wickets[wickets.player_dismissed.notnull()==True].groupby(['match_id']).count().player_dismissed.mean()\n",
    "\n",
    "wickets = ipl_data[ipl_data.bowling_team=='Mumbai Indians'].groupby(['match_id']).tail(30)\n",
    "mi_wickets = wickets[wickets.player_dismissed.notnull()==True].groupby(['match_id']).count().player_dismissed.mean()"
   ]
  },
  {
   "cell_type": "code",
   "execution_count": 62,
   "metadata": {},
   "outputs": [
    {
     "data": {
      "image/png": "[encoded data removed]",
      "text/plain": [
       "<Figure size 864x576 with 2 Axes>"
      ]
     },
     "metadata": {},
     "output_type": "display_data"
    }
   ],
   "source": [
    "fig,a = plt.subplots(1,2, figsize=(12,8))\n",
    "y = ['RCB', 'CSK', 'KKR', 'MI']\n",
    "x1 = [rcb_runs, csk_runs, kkr_runs, mi_runs]\n",
    "x2 = [rcb_wickets, csk_wickets, kkr_wickets, mi_wickets]\n",
    "a[0].barh(y,x1)\n",
    "a[0].set_title('Death Bowling runs given')\n",
    "a[0].set_xlabel('Runs')\n",
    "a[0].set_ylabel('Teams')\n",
    "a[1].barh(y, x2)\n",
    "a[1].set_title('Death Bowling wickets taken')\n",
    "a[1].set_xlabel('Wickets')\n",
    "a[1].set_ylabel('Teams')\n",
    "plt.show()"
   ]
  },
  {
   "cell_type": "markdown",
   "metadata": {},
   "source": [
    "RCB’s bowling is subpar during the death overs. Wicket taking ability is also slightly lower as compared to MI and CSK even though its approx. equal to KKR"
   ]
  },
  {
   "cell_type": "markdown",
   "metadata": {},
   "source": [
    "<a id=section50404></a>\n",
    "### 5.4.4 How many players from each team contribute more than 1 wicket in a match?"
   ]
  },
  {
   "cell_type": "code",
   "execution_count": 63,
   "metadata": {},
   "outputs": [
    {
     "data": {
      "text/plain": [
       "[20.481927710843372, 23.80952380952381, 20.73170731707317, 25.730994152046783]"
      ]
     },
     "execution_count": 63,
     "metadata": {},
     "output_type": "execute_result"
    }
   ],
   "source": [
    "#RCB\n",
    "#Extract the wickets for each player\n",
    "wickets = deliveries[(deliveries.bowling_team=='Royal Challengers Bangalore')&(deliveries.player_dismissed.notnull()==True)].groupby(['match_id','bowler']).count().player_dismissed\n",
    "df = pd.DataFrame(wickets[wickets>=2])\n",
    "df.reset_index(inplace=True)\n",
    "df\n",
    "#Count the % of matches in which more than 1 bowler have contributed 2+ wickets\n",
    "temp = df.groupby(['match_id']).count().bowler\n",
    "temp\n",
    "percentage_rcb = len(temp[temp>2])*100/len(matches[(matches.team1=='Royal Challengers Bangalore')|(matches.team2=='Royal Challengers Bangalore')])\n",
    "\n",
    "\n",
    "#CSK\n",
    "#Extract the wickets for each player\n",
    "wickets = deliveries[(deliveries.bowling_team=='Chennai Super Kings')&(deliveries.player_dismissed.notnull()==True)].groupby(['match_id','bowler']).count().player_dismissed\n",
    "df = pd.DataFrame(wickets[wickets>=2])\n",
    "df.reset_index(inplace=True)\n",
    "df\n",
    "#Count the % of matches in which more than 1 bowler have contributed 2+ wickets\n",
    "temp = df.groupby(['match_id']).count().bowler\n",
    "temp\n",
    "percentage_csk = len(temp[temp>2])*100/len(matches[(matches.team1=='Chennai Super Kings')|(matches.team2=='Chennai Super Kings')])\n",
    "\n",
    "#KKR\n",
    "#Extract the wickets for each player\n",
    "wickets = deliveries[(deliveries.bowling_team=='Kolkata Knight Riders')&(deliveries.player_dismissed.notnull()==True)].groupby(['match_id','bowler']).count().player_dismissed\n",
    "df = pd.DataFrame(wickets[wickets>=2])\n",
    "df.reset_index(inplace=True)\n",
    "df\n",
    "#Count the % of matches in which more than 1 bowler have contributed 2+ wickets\n",
    "temp = df.groupby(['match_id']).count().bowler\n",
    "temp\n",
    "percentage_kkr = len(temp[temp>2])*100/len(matches[(matches.team1=='Kolkata Knight Riders')|(matches.team2=='Kolkata Knight Riders')])\n",
    "\n",
    "#MI\n",
    "#Extract the wickets for each player\n",
    "wickets = deliveries[(deliveries.bowling_team=='Mumbai Indians')&(deliveries.player_dismissed.notnull()==True)].groupby(['match_id','bowler']).count().player_dismissed\n",
    "df = pd.DataFrame(wickets[wickets>=2])\n",
    "df.reset_index(inplace=True)\n",
    "df\n",
    "#Count the % of matches in which more than 1 bowler have contributed 2+ wickets\n",
    "temp = df.groupby(['match_id']).count().bowler\n",
    "temp\n",
    "percentage_mi = len(temp[temp>2])*100/len(matches[(matches.team1=='Mumbai Indians')|(matches.team2=='Mumbai Indians')])\n",
    "\n",
    "[percentage_rcb, percentage_csk, percentage_kkr, percentage_mi]"
   ]
  },
  {
   "cell_type": "code",
   "execution_count": 64,
   "metadata": {},
   "outputs": [
    {
     "data": {
      "text/plain": [
       "Text(0.5, 1.0, 'MI - % of matches >2 players scalped 2+')"
      ]
     },
     "execution_count": 64,
     "metadata": {},
     "output_type": "execute_result"
    },
    {
     "data": {
      "image/png": "[encoded data removed]",
      "text/plain": [
       "<Figure size 864x576 with 4 Axes>"
      ]
     },
     "metadata": {},
     "output_type": "display_data"
    }
   ],
   "source": [
    "fig,ax = plt.subplots(2,2, figsize=(12,8))\n",
    "label = ['> 2 scalped 2+', '<= 2 scalped 2+']\n",
    "colors = ['green', 'blue']\n",
    "explode = (0.1,0)\n",
    "rcb_per = [percentage_rcb, 100-percentage_rcb]\n",
    "ax[0][0].pie(rcb_per, labels = label, colors= colors, explode = explode,autopct='%1.1f%%', shadow= True)\n",
    "ax[0][0].set_title('RCB - % of matches >2 players scalped 2+')\n",
    "\n",
    "csk_per = [percentage_csk, 100-percentage_csk]\n",
    "ax[0][1].pie(csk_per, labels = label, colors= colors, explode = explode,autopct='%1.1f%%', shadow= True)\n",
    "ax[0][1].set_title('CSK - % of matches >2 players scalped 2+')\n",
    "\n",
    "kkr_per = [percentage_kkr, 100-percentage_kkr]\n",
    "ax[1][0].pie(kkr_per, labels = label, colors= colors, explode = explode,autopct='%1.1f%%', shadow= True)\n",
    "ax[1][0].set_title('KKR - % of matches >2 players scalped 2+')\n",
    "\n",
    "mi_per = [percentage_mi, 100-percentage_mi]\n",
    "ax[1][1].pie(mi_per, labels = label, colors= colors, explode = explode,autopct='%1.1f%%', shadow= True)\n",
    "ax[1][1].set_title('MI - % of matches >2 players scalped 2+')"
   ]
  },
  {
   "cell_type": "markdown",
   "metadata": {},
   "source": [
    "<a id=section6></a>\n",
    "## 6. Conclusion\n",
    "\n",
    "- We have analysed RCB over 4 major parameters. 1) How has extraneous factors affected? 2) How has pressure affected? 3) How has poor batting affected? 4) How was poor bowling affected? These analysis is done keeping in mind the objective of searching actionable insights to improve RCB's performance. This doesn't mean that RCB doesn't have any positive aspects. Only the negative aspects are observed to provide construvtive criticism\n",
    "\n",
    "- There is lot of things which RCB can improve to overcome shortcomings and aim to grab the Indian Premier League Title."
   ]
  },
  {
   "cell_type": "markdown",
   "metadata": {},
   "source": [
    "<a id=section601></a>\n",
    "### 6.1 Actionable Insights\n",
    "\n",
    "#### Extraneous factors \n",
    "- Can consult experts / send vice-captain to attend the toss as toss is an important factor\n",
    "- Look into options such as altering the pitch, setting the boundaries according to team’s strength\n",
    "\n",
    "#### Pressure situation\n",
    "- Hire psychologist to train players to tackle pressure situations and keep calm\n",
    "- Backing, contribution of every team member and having self-confidence to face any challenges\n",
    "\n",
    "#### Batting\n",
    "- More players need to contribute runs, improve positions 5&6 to reduce pressure on top 4 .\n",
    "- Necessary to find an all-rounder batsmen for position 7. He is going to make a difference in close encounters, high chases and when the top positions falls quickly\n",
    "\n",
    "#### Bowling\n",
    "- Needs to select more wicket taking bowlers. That will indirectly help in putting runs on a leash\n",
    "- Death bowling is an art of mixing up the balls, holding nerve and reading the batsman. Training in this area needs to be provided or experts should be selected during auction\n"
   ]
  }
 ],
 "metadata": {
  "kernelspec": {
   "display_name": "Python 3",
   "language": "python",
   "name": "python3"
  },
  "language_info": {
   "codemirror_mode": {
    "name": "ipython",
    "version": 3
   },
   "file_extension": ".py",
   "mimetype": "text/x-python",
   "name": "python",
   "nbconvert_exporter": "python",
   "pygments_lexer": "ipython3",
   "version": "3.7.6"
  }
 },
 "nbformat": 4,
 "nbformat_minor": 4
}
